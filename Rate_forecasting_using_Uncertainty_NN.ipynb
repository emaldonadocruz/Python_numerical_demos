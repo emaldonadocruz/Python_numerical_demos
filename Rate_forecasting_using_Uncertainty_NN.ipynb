{
 "cells": [
  {
   "cell_type": "markdown",
   "id": "eligible-garbage",
   "metadata": {},
   "source": [
    "\n",
    "<p align=\"center\">\n",
    "    <img src=\"https://github.com/GeostatsGuy/GeostatsPy/blob/master/TCG_color_logo.png?raw=true\" width=\"220\" height=\"240\" />\n",
    "\n",
    "</p>\n",
    "\n",
    "## Machine Learning based uncertainty models\n",
    "\n",
    "## Subsurface Property Prediction with Neural Networks\n",
    "\n",
    "### Eduardo Maldonado Cruz, Graduate Research Assistant, The University of Texas at Austin\n",
    "\n",
    "#### [Twitter](https://twitter.com/emaldonadocruz) | [GitHub](https://github.com/emaldonadocruz) | [LinkedIn](https://www.linkedin.com/in/eduardo-maldonado-8386a898/)\n",
    "\n",
    "### Michael Pyrcz, Associate Professor, The University of Texas at Austin \n",
    "\n",
    "#### [Twitter](https://twitter.com/geostatsguy) | [GitHub](https://github.com/GeostatsGuy) | [Website](http://michaelpyrcz.com) | [GoogleScholar](https://scholar.google.com/citations?user=QVZ20eQAAAAJ&hl=en&oi=ao) | [Book](https://www.amazon.com/Geostatistical-Reservoir-Modeling-Michael-Pyrcz/dp/0199731446) | [YouTube](https://www.youtube.com/channel/UCLqEr-xV-ceHdXXXrTId5ig)  | [LinkedIn](https://www.linkedin.com/in/michael-pyrcz-61a648a1)"
   ]
  },
  {
   "cell_type": "markdown",
   "id": "equipped-insured",
   "metadata": {},
   "source": [
    "## Executive summary"
   ]
  },
  {
   "cell_type": "markdown",
   "id": "legal-franchise",
   "metadata": {},
   "source": [
    "Deep learning models focus on **prediction accuracy and minimizing prediction error**. Yet, for spatial models, **accurate predictions along with accurate and precise uncertainty models are critical.** \n",
    "\n",
    "Due to limited data veracity, data sparsity, and feature heterogeneity in the spatial setting, uncertainty is significant; therefore, **predicting a single estimate must be replaced with a prediction of the uncertainty distribution**.\n",
    "\n",
    "**We propose a novel and easy to use objective function to summarize uncertainty model performance**.\n",
    "The proposed function tunes deep learning models for optimum uncertainty accuracy and precision."
   ]
  },
  {
   "cell_type": "markdown",
   "id": "overall-moldova",
   "metadata": {},
   "source": [
    "## Objective"
   ]
  },
  {
   "cell_type": "markdown",
   "id": "adjusted-studio",
   "metadata": {},
   "source": [
    "Tune deep learning models for maximum **goodness**, **accuracy** and **precision**."
   ]
  },
  {
   "cell_type": "markdown",
   "id": "comparable-canada",
   "metadata": {},
   "source": [
    "## Introduction"
   ]
  },
  {
   "cell_type": "markdown",
   "id": "turkish-swimming",
   "metadata": {},
   "source": [
    "Deep learning models focus on prediction accuracy and minimizing prediction error. Yet, for spatial models, accurate predictions along with accurate and precise uncertainty models are critical. Prediction of the entire uncertainty model is accomplished robustly with Bayesian Neural Networks but with high computational cost(MacKay, 1991; Hinton and Van Camp 1993). Leading to the development of stochastic regularization techniques, one of the most popular is dropout (Hinton et al., 2012; Srivastava et al., 2014, Gal, 2016, Gal and Ghahramani., 2016, Kendall and Gal, 2017, Osband et al., 2016) that can be interpreted as a Bayesian approximation with greater computationally efficiency. \n",
    "\n",
    "Dropout is a technique that addresses overfitting in neural networks and provides an approach to improve prediction accuracy by ensemble learning. Dropout refers to randomly removing or reducing (also known as regularizing) network weights, removing or weakening the connections between the nodes in the neural network to introduce prediction model stochasticity during model training (Dahl, 2013; Srivastava, 2014; Hara, 2016). \n",
    "\n",
    "Ensemble predictions benefit from reduced model variance and improved prediction model generalization. The proposed method uses the machine learning dropout hyperparameter to calculate accurate and precise uncertainty models of response features. This objective function is based on the goodness metric proposed by Deutsch (1996).\n",
    "\n",
    "The goodness of the uncertainty model (Maldonado and Pyrcz, 2021)\n",
    "\n",
    "\\begin{equation}\n",
    "\\mathrm{f}\\left(x\\right)=\\frac{1}{2}\\left[\\frac{1}{n}\\sum_{i=1}^{n}\\left|y\\left(\\mathbf{u}_{\\mathrm{i}}\\right)-\\hat{y}\\left(\\mathbf{u}_{\\mathrm{i}}\\right)\\right|\\right]+\\frac{1}{2}\\left[\\int_{0}^{1}\\left[3a\\left(p\\right)-2\\right]\\left[\\overline{\\xi\\left(p\\right)}-p\\right]dp\\right]\n",
    "\\label{eq:Goodness} \\tag{1}\n",
    "\\end{equation}\n",
    "\n",
    "where the first term is the typical mean absolute error (MAE) in testing between $𝑦_𝑖 (𝐮_𝐢 )$ training response feature values and $𝑦_𝑖 (𝐮_𝐢 )$ estimates over n withheld testing data, and the second term is a measure of goodness.\n",
    "\n",
    "Where $\\xi(𝐮_𝑖;𝑝)$ is the indicator function at each point $𝐮_𝑖, 𝑖=1,…,𝑛,$ evaluated over a range of symmetric 𝑝-probability intervals:\n",
    "\n",
    "\\begin{equation}\n",
    "\\xi\\left(\\mathbf{u}_{\\mathrm{i}};p\\right)=\\begin{cases}\n",
    "1, & F_{y}\\left(\\mathbf{u}_{\\mathrm{i}};y\\left(\\mathbf{u}_{\\mathrm{i}}\\right)\\right)\\in\\left(p_{low},p_{upp}\\right]\\\\\n",
    "0, & \\mathrm{Otherwise}\n",
    "\\end{cases}\n",
    "\\label{eq:IndicatorFunc} \\tag{2}\n",
    "\\end{equation}\n",
    "\n",
    "Next, we use $\\ref{eq:Goodness}$ as the objective function to tune a very simple uncertainty model.\n"
   ]
  },
  {
   "cell_type": "markdown",
   "id": "arctic-potato",
   "metadata": {},
   "source": [
    "## Library importing"
   ]
  },
  {
   "cell_type": "markdown",
   "id": "front-marks",
   "metadata": {},
   "source": [
    "First we must import some libraries to train a deep learning model.\n"
   ]
  },
  {
   "cell_type": "code",
   "execution_count": 1,
   "id": "fossil-musical",
   "metadata": {},
   "outputs": [],
   "source": [
    "# Set verbosity\n",
    "import logging\n",
    "logging.getLogger(\"tensorflow\").setLevel(logging.ERROR)\n",
    "\n",
    "# Libraries for data analysis and array manipulation\n",
    "import pandas as pd\n",
    "import numpy as np\n",
    "\n",
    "# Libraries for plotting\n",
    "import matplotlib.pyplot as plt\n",
    "from matplotlib import colors\n",
    "\n",
    "# Import tensorflow\n",
    "import tensorflow as tf\n",
    "from tensorflow import keras\n",
    "from tensorflow.keras import layers\n",
    "from keras.layers.core import Lambda\n",
    "from tensorflow.keras import backend as K\n",
    "\n",
    "#Librabry with useful analysis statistics\n",
    "from scipy import stats\n",
    "from scipy import integrate\n",
    "import random\n",
    "\n",
    "\n",
    "# Preprocessing and train-test split\n",
    "from sklearn.preprocessing import StandardScaler\n",
    "from sklearn.model_selection import train_test_split\n",
    "\n",
    "# library for hyperparameter search\n",
    "import optuna\n",
    "\n",
    "#To import, save and load jobs\n",
    "import joblib"
   ]
  },
  {
   "cell_type": "code",
   "execution_count": 2,
   "id": "stupid-pencil",
   "metadata": {},
   "outputs": [],
   "source": [
    "tf.random.set_seed(0)\n",
    "np.random.RandomState(38)\n",
    "np.random.seed(38)"
   ]
  },
  {
   "cell_type": "code",
   "execution_count": 3,
   "id": "0e7da832",
   "metadata": {},
   "outputs": [
    {
     "name": "stdout",
     "output_type": "stream",
     "text": [
      "Requirement already satisfied: UTuning in c:\\users\\em42363\\anaconda3\\envs\\new\\lib\\site-packages (0.1.3)\n"
     ]
    }
   ],
   "source": [
    "!pip install UTuning"
   ]
  },
  {
   "cell_type": "code",
   "execution_count": 4,
   "id": "relevant-favor",
   "metadata": {},
   "outputs": [],
   "source": [
    "#import sys\n",
    "#sys.path.insert(0, r'C:\\Users\\em42363\\OneDrive\\PhD\\UTuning')\n",
    "\n",
    "from UTuning import scorer, plots"
   ]
  },
  {
   "cell_type": "code",
   "execution_count": 5,
   "id": "voluntary-hudson",
   "metadata": {
    "code_folding": []
   },
   "outputs": [],
   "source": [
    "## Plots\n",
    "import matplotlib.pyplot as plt\n",
    "import numpy as np\n",
    "import random\n",
    "\n",
    "import matplotlib.tri as tri\n",
    "from scipy.ndimage import gaussian_filter\n",
    "\n",
    "#import matplotlib\n",
    "#matplotlib.rcParams['text.usetex'] = True\n",
    "\n",
    "\n",
    "def error_line(Prediction, Truth, Sigma, Frac=1):\n",
    "    '''Simple function to draw an error line plot. It takes three arrays of the same length \n",
    "\n",
    "    Parameters\n",
    "    ----------\n",
    "\n",
    "    Prediction : float array\n",
    "        The predicted value array (Prediction)\n",
    "    Truth : float array\n",
    "        The truth value array (Truth) \n",
    "    Sigma : float array\n",
    "        The standard deviation array (Sigma)\n",
    "    Frac : float \n",
    "        Frac is the fraction of points to display randomly\n",
    "\n",
    "    Returns\n",
    "    -------\n",
    "    Scatter plot\n",
    "    '''\n",
    "    yline = [min(Prediction.min(), Truth.min()),\n",
    "             max(Prediction.max(), Truth.max())]\n",
    "    xline = [min(Prediction.min(), Truth.min()),\n",
    "             max(Prediction.max(), Truth.max())]\n",
    "\n",
    "    fig, ax = plt.subplots(figsize=(10, 6))\n",
    "    # To display randomly less points [Remove , Keep] in fraction\n",
    "    mask = np.random.choice([False, True], len(Prediction), p=[(1-Frac), (Frac)])\n",
    "    ax.errorbar(Prediction[mask], Truth[mask], xerr=Sigma[mask],\n",
    "                fmt='k.',\n",
    "                ecolor='k')\n",
    "    ax.plot(xline, yline, '-k')\n",
    "    ax.set_xlabel('Predicted value, $\\hat{y}$')\n",
    "    ax.set_ylabel('True value, $y$ ')\n",
    "    plt.show()\n",
    "\n",
    "def error_accuracy_plot(percentile,IF_array,Prediction_array,Truth,Sigma):\n",
    "    '''Simple function to draw an error line plot and its corresponding accuracy plot. \n",
    "\n",
    "    Parameters\n",
    "    ----------\n",
    "\n",
    "    Prediction : float array\n",
    "        The predicted value array (Prediction)\n",
    "    Truth : float array\n",
    "        The truth value array (Truth) \n",
    "    Sigma : float array\n",
    "        The standard deviation array (Sigma)\n",
    "    Frac : float \n",
    "        Frac is the fraction of points to display randomly\n",
    "\n",
    "    Returns\n",
    "    -------\n",
    "    Scatter plot\n",
    "    '''\n",
    "    avgIndFunc = np.mean(IF_array, axis=0)\n",
    "    \n",
    "    L = 10\n",
    "    mean = np.empty((L, len(percentile)))\n",
    "\n",
    "    for p_interv in range(len(percentile)):\n",
    "        for l in np.arange(0, L):\n",
    "            samples = random.choices(IF_array[:, p_interv],\n",
    "                                     k=IF_array.shape[0])\n",
    "            mean[l, p_interv] = np.mean(samples)\n",
    "            \n",
    "    fig,(ax1,ax2)=plt.subplots(1,2,figsize=(12,4))\n",
    "    \n",
    "    if len(Prediction_array.shape)>1:\n",
    "        xline = [0,max(np.mean(Prediction_array,axis=1).max(),Truth.max())+max(np.mean(Prediction_array,axis=1).max(),Truth.max())*0.1]#\n",
    "        yline = [0,xline[1]]#\n",
    "    \n",
    "        ax1.errorbar(np.mean(Prediction_array,axis=1), Truth, xerr=Sigma, \n",
    "                     fmt='k.',\n",
    "                     ecolor='k')\n",
    "    else:\n",
    "        xline = [0,max(Prediction_array.max(),Truth.max())+max(Prediction_array.max(),Truth.max())*0.1]#\n",
    "        yline = [0,xline[1]]#\n",
    "    \n",
    "        ax1.errorbar(Prediction_array, Truth, xerr=Sigma, \n",
    "                     fmt='k.',\n",
    "                     ecolor='k')\n",
    "    ax1.plot(xline, yline, '-k')\n",
    "    ax1.set_xlabel('Predicted value, $\\hat{y}$')\n",
    "    ax1.set_ylabel('True value, $y$ ')\n",
    "\n",
    "    ax2.plot(percentile, avgIndFunc,'-ok',markersize=5)\n",
    "    ax2.plot(percentile,np.round(avgIndFunc+np.std(mean, axis=0), 3),'--k')\n",
    "    ax2.plot(percentile,np.round(avgIndFunc-np.std(mean, axis=0), 3),'--k')\n",
    "    ax2.plot([0, 1],[0, 1],'-k')\n",
    "    ax2.set_ylabel(r\"$\\overline{\\xi (p)}$\")\n",
    "    ax2.set_xlabel('Probability interval $p$')\n",
    "    ax2.set_ylim(0,1)\n",
    "    ax2.set_xlim(0,1)\n",
    "\n",
    "    ax2.plot(percentile, avgIndFunc,'-ok',markersize=5)\n",
    "    \n",
    "\n",
    "def surface(x, y, z, levels, labels):\n",
    "    \n",
    "    fig, (ax1) = plt.subplots(nrows=1,figsize=(12,6))\n",
    "    \n",
    "    npoints=x.shape[0]\n",
    "    smooth=1\n",
    "    \n",
    "    # Create grid values first.\n",
    "    xi = np.linspace(x.min(), x.max(), npoints)\n",
    "    yi = np.linspace(y.min(), y.max(), npoints)\n",
    "    \n",
    "    # Linearly interpolate the data (x, y) on a grid defined by (xi, yi).\n",
    "    triang = tri.Triangulation(x, y)\n",
    "    interpolator = tri.LinearTriInterpolator(triang, z)\n",
    "    Xi, Yi = np.meshgrid(xi, yi)\n",
    "    zi = interpolator(Xi, Yi)\n",
    "    \n",
    "    zi = gaussian_filter(zi, smooth)\n",
    "    \n",
    "    levels = levels\n",
    "    \n",
    "    ax1.contour(xi, yi, zi, levels=levels, linewidths=0.1, colors='k')\n",
    "    \n",
    "    cntr1 = ax1.contourf(xi, yi, zi, levels=levels, cmap=\"inferno\",alpha=0.95)\n",
    "    \n",
    "    cbar = plt.colorbar(cntr1, ax=ax1)\n",
    "    cbar.set_label(labels['z'], rotation=270,labelpad=30)\n",
    "    \n",
    "    ax1.set(xlim=(x.min(), x.max()),ylim=(y.min(), y.max()))\n",
    "\n",
    "    ax1.scatter(x,y,s=7,color='white')\n",
    "    ax1.set_xlabel(labels['x'])\n",
    "    ax1.set_ylabel(labels['y'])\n",
    "    \n",
    "    \n",
    "    plt.show()\n"
   ]
  },
  {
   "cell_type": "code",
   "execution_count": 6,
   "id": "corrected-gathering",
   "metadata": {
    "code_folding": [
     0
    ]
   },
   "outputs": [],
   "source": [
    "## Scorer\n",
    "import numpy as np\n",
    "import scipy.stats as stats\n",
    "import scipy.integrate as integrate\n",
    "\n",
    "class scorer:\n",
    "    '''\n",
    "    Scorer class, a class to represent the accuracy, precision and goodness\n",
    "    score from an uncertainty model.\n",
    "    \n",
    "    Attributes\n",
    "    ----------\n",
    "    Accuracy : float\n",
    "    Precision : float\n",
    "    Goodness : float\n",
    "    Overall uncertainty : float\n",
    "    Indicator Function : float array\n",
    "    '''\n",
    "    def __init__(self, Prediction, Truth, Sigma):\n",
    "        \n",
    "        n_quantiles = 11\n",
    "        self.perc = np.linspace(0.0, 1.01, n_quantiles)\n",
    "        # self.A_array=np.zeros(Prediction.shape[0])\n",
    "        # self.P_array=np.zeros(Prediction.shape[0])\n",
    "        # self.G_array=np.zeros(Prediction.shape[0])\n",
    "        #self.U_array=np.zeros(Prediction.shape[0])\n",
    "\n",
    "        self.IF_array=np.zeros((Prediction.shape[0],n_quantiles))\n",
    "        \n",
    "        if len(Prediction.shape)>1:\n",
    "            for i in range(Prediction.shape[0]):\n",
    "                IF = APG_calc(Truth[i], Prediction[i,:], Sigma[i],n_quantiles)\n",
    "                #self.U_array[i]=U\n",
    "                # self.A_array[i]=A\n",
    "                # self.P_array[i]=P\n",
    "                # self.G_array[i]=G\n",
    "                self.IF_array[i,:] = IF\n",
    "        else:\n",
    "            Pred_array = np.zeros((Sigma.shape[0],100))\n",
    "            for i in range(Prediction.shape[0]):\n",
    "                Pred_array[i,:] = np.random.normal(loc=Prediction[i],scale=Sigma[i],size=100)\n",
    "                IF = APG_calc(Truth[i], Pred_array[i,:], Sigma[i],n_quantiles)\n",
    "                #self.U_array[i]=U\n",
    "                # self.A_array[i]=A\n",
    "                # self.P_array[i]=P\n",
    "                # self.G_array[i]=G\n",
    "                self.IF_array[i,:] = IF\n",
    "        \n",
    "        self.avgIndFunc = np.mean(self.IF_array, axis=0)\n",
    "        \n",
    "        self.a = np.zeros(len(self.avgIndFunc))\n",
    "        for i in range(len(self.avgIndFunc)):\n",
    "            if self.avgIndFunc[i] > self.perc[i] or self.avgIndFunc[i] == self.perc[i]:\n",
    "                self.a[i] = 1\n",
    "            else:\n",
    "                self.a[i] = 0\n",
    "        \n",
    "    def Accuracy(self):\n",
    "        Accuracy = integrate.simps(self.a, self.perc)\n",
    "        return Accuracy\n",
    "        #return print('Accuracy = {0:2.2f}'.format(np.mean(self.A_array)))\n",
    "    \n",
    "    def Precision(self):\n",
    "        Prec = self.a*(self.avgIndFunc-self.perc)\n",
    "        Precision = 1-2*integrate.simps(Prec, self.perc)\n",
    "        return Precision\n",
    "        #return print('Precision = {0:2.2f}'.format(np.mean(self.P_array)))\n",
    "    \n",
    "    def Goodness(self):\n",
    "        Sum = (3*self.a-2)*(self.avgIndFunc-self.perc)\n",
    "        Goodness = 1-integrate.simps(Sum, self.perc)\n",
    "        return Goodness\n",
    "        #return print('Goodness = {0:2.2f}'.format(np.mean(self.G_array)))\n",
    "\n",
    "    def Overall_uncertainty(self,Sigma):\n",
    "        return Sigma.mean()\n",
    "        #return print('Overall uncertainty = {0:2.2f}'.format(np.mean(self.G_array)))\n",
    "    \n",
    "    def IndicatorFunction(self):\n",
    "        return self.IF_array\n",
    "\n",
    "def APG_calc(Truth, Pred, Sigma,n_quantiles):\n",
    "\n",
    "    mask = np.random.choice([False, True],\n",
    "                            len(Pred),\n",
    "                            p=[0, 1]) # To display randomly less points [Remove , Keep] in fraction\n",
    "\n",
    "    Pred=Pred[mask]\n",
    "    \n",
    "    perc = np.linspace(0.0, 1.01, n_quantiles)\n",
    "\n",
    "    F = np.zeros(Pred.shape[0])\n",
    "    Indicator_func = np.zeros((Pred.shape[0], perc.shape[0]))\n",
    "\n",
    "    # range of symmetric p-probability intervals\n",
    "    plow = (1 - perc) / 2\n",
    "    pupp = (1 + perc) / 2\n",
    "    \n",
    "    for i in range(len(Pred)):\n",
    "        F[i] = stats.norm.cdf(Truth,\n",
    "                          loc=Pred[i],\n",
    "                          scale=Sigma)\n",
    "        for proba_low, proba_upp in zip(plow, pupp):\n",
    "            for k in range(len(plow)):\n",
    "                if plow[k] < F[i] <= pupp[k]:\n",
    "                    Indicator_func[i, k] = 1\n",
    "                else:\n",
    "                    Indicator_func[i, k] = 0\n",
    "\n",
    "    avgIndFunc = np.mean(Indicator_func, axis=0)\n",
    "\n",
    "    return avgIndFunc\n"
   ]
  },
  {
   "cell_type": "code",
   "execution_count": 7,
   "id": "neither-sauce",
   "metadata": {},
   "outputs": [],
   "source": [
    "physical_devices = tf.config.list_physical_devices('GPU') \n",
    "if len(physical_devices)>0:\n",
    "    tf.config.experimental.set_memory_growth(physical_devices[0], True)"
   ]
  },
  {
   "cell_type": "markdown",
   "id": "weird-international",
   "metadata": {},
   "source": [
    "## Functions"
   ]
  },
  {
   "cell_type": "markdown",
   "id": "spread-prize",
   "metadata": {},
   "source": [
    "First lets define some useful functions that will be later used for plotting and case evaluation"
   ]
  },
  {
   "cell_type": "code",
   "execution_count": 8,
   "id": "impressive-respondent",
   "metadata": {
    "code_folding": [
     1,
     28,
     76,
     96,
     122,
     151,
     173,
     185,
     225,
     256,
     327
    ]
   },
   "outputs": [],
   "source": [
    "# Custom functions\n",
    "def get_dataframe(mc_predictions, y_s, X_s):\n",
    "    '''\n",
    "    This function takes the sampled distribution along with the testing data and obtains\n",
    "    the mean, variance and standard deviation, from this function we get the dataframe\n",
    "    to construct the accuracy plot.\n",
    "    '''\n",
    "    \n",
    "    Mean = np.zeros((mc_predictions.shape[1]))\n",
    "    Var = np.zeros((mc_predictions.shape[1]))\n",
    "    STD = np.zeros((mc_predictions.shape[1]))\n",
    "    \n",
    "    for i in range(mc_predictions.shape[1]):\n",
    "        Mean[i] = np.average(mc_predictions[:, i])\n",
    "        Var[i] = np.var(mc_predictions[:, i])\n",
    "        STD[i] = np.std(mc_predictions[:, i])\n",
    "\n",
    "    mask = np.random.choice([False, True], len(Mean), p=[0.5, 0.5])\n",
    "    \n",
    "    df = pd.DataFrame()\n",
    "    \n",
    "    df['Pred'] = Mean[mask]\n",
    "    df['Truth'] = y_s[mask]\n",
    "    df['Var'] = Var[mask]\n",
    "    df['Sigma'] = np.sqrt(Var[mask])\n",
    "    \n",
    "    return df\n",
    "\n",
    "def get_GAP(MeanVal, Sigma, Truth, n_quantiles):\n",
    "    '''\n",
    "    This function takes the dataframe and calculates the indicator function and the average\n",
    "    we then use this information to estimate the accuracy, goodness and precision of the model.\n",
    "    '''\n",
    "    perc = np.linspace(0.0, 1.00, n_quantiles)\n",
    "    F = np.zeros(MeanVal.shape[0])\n",
    "    Indicator_func = np.zeros((MeanVal.shape[0], perc.shape[0]))\n",
    "\n",
    "    # range of symmetric p-probability intervals\n",
    "    plow = (1 - perc) / 2\n",
    "    pupp = (1 + perc) / 2\n",
    "        \n",
    "    for i in range(len(MeanVal)):\n",
    "        F[i] = stats.norm.cdf(Truth[i],\n",
    "                              loc=MeanVal[i],\n",
    "                              scale=Sigma[i])\n",
    "        for proba_low, proba_upp in zip(plow, pupp):\n",
    "            for k in range(len(plow)):\n",
    "                if plow[k] < F[i] <= pupp[k]:\n",
    "                    Indicator_func[i, k] = 1\n",
    "                else:\n",
    "                    Indicator_func[i, k] = 0\n",
    "\n",
    "    avgIndFunc = np.mean(Indicator_func, axis=0)\n",
    "    \n",
    "    a = np.zeros(len(avgIndFunc))\n",
    "    for i in range(len(avgIndFunc)):\n",
    "        if avgIndFunc[i] > perc[i] or avgIndFunc[i] == perc[i]:\n",
    "            a[i] = 1\n",
    "        else:\n",
    "            a[i] = 0\n",
    "    print(f'Overall uncertainty = {Sigma.mean():.6f}')\n",
    "    U = Sigma.mean()\n",
    "    \n",
    "    ##% Goodness, Precision and Accuracy\n",
    "    \n",
    "\n",
    "    Accuracy = integrate.simps(a, perc)\n",
    "\n",
    "    Prec = a*(avgIndFunc-perc)\n",
    "    Precision = 1-2*integrate.simps(Prec, perc)\n",
    "\n",
    "    Sum = (3*a-2)*(avgIndFunc-perc)\n",
    "    Goodness = 1-integrate.simps(Sum, perc)\n",
    "\n",
    "    return Goodness, Precision, Accuracy, U, Indicator_func,perc\n",
    "\n",
    "def error_line(Mean,Truth,STD,r):\n",
    "    '''\n",
    "    Simple function to draw an error line plot. It takes the mean predicted value,\n",
    "    the truth value and the standard deviation.\n",
    "    '''\n",
    "    \n",
    "    xline = [0,1]#\n",
    "    yline = [0,1]#\n",
    "    plt.figure(figsize=(10, 6))\n",
    "    mask = np.random.choice([False, True], len(Mean), p=[0.5, 0.5])\n",
    "    plt.errorbar(Mean[mask], Truth[mask], xerr=STD[mask], \n",
    "                 fmt='k.', ecolor='k',label=\"Pearson's r = {0:2.2f}\".format(r))\n",
    "    plt.legend()\n",
    "    plt.plot(xline, yline, '-k')\n",
    "    \n",
    "    plt.xlabel('Predicted value, $\\hat{y}$ [bl]')\n",
    "    plt.ylabel('True value, $y$ [bl]')\n",
    "\n",
    "    plt.show()\n",
    "    \n",
    "def accuracy_plot(Indicator_func,perc):\n",
    "    '''\n",
    "    This function takes the indicator function and percentiles to draw the accuracy plot.\n",
    "    '''\n",
    "    \n",
    "    L = 100  \n",
    "    mean = np.empty((L, len(perc)))\n",
    "    std = np.empty_like(mean)\n",
    "    avgIndFunc = np.mean(Indicator_func, axis=0)\n",
    "    for p_interv in range(len(perc)):\n",
    "        for l in np.arange(0, L):\n",
    "            samples = random.choices(Indicator_func[:, p_interv],\n",
    "                                     k=Indicator_func.shape[0])\n",
    "            mean[l, p_interv] = np.mean(samples)\n",
    "\n",
    "    plt.figure(figsize=(10, 6))\n",
    "    plt.plot(perc, avgIndFunc,'-ok',markersize=5)\n",
    "    plt.plot(perc,np.round(avgIndFunc+np.std(mean, axis=0), 3),'--k')\n",
    "    plt.plot(perc,np.round(avgIndFunc-np.std(mean, axis=0), 3),'--k')\n",
    "    plt.plot([0, 1],[0, 1],'-k')\n",
    "    plt.ylabel(r\"$\\overline{\\xi (p)}$\")\n",
    "    plt.xlabel('Probability interval $p$')\n",
    "    plt.ylim(0,1)\n",
    "    plt.xlim(0,1)\n",
    "    plt.show()\n",
    "\n",
    "def histogram(mc_predictions):\n",
    "    '''\n",
    "    From the Monte Carlo predictions we draw a random point and construct the\n",
    "    histogram of predictions from the model\n",
    "    '''\n",
    "    \n",
    "    Avg = []\n",
    "    rand=np.random.randint(0,mc_predictions.shape[1])\n",
    "    for i in range(mc_predictions.shape[0]):\n",
    "        Avg.append(np.average(mc_predictions[i,rand]))\n",
    "\n",
    "    Std = np.std(Avg)\n",
    "\n",
    "    # Histograms\n",
    "    n_bins = 20\n",
    "    fig, axs = plt.subplots(1, 1, figsize=(10, 6))\n",
    "    N, bins, patches = axs.hist(Avg,\n",
    "                                bins=n_bins,\n",
    "                                label='$\\sigma$ = %2.5f' % Std)\n",
    "    #axs.set_title('Root Mean squared error in barrels for each cell');\n",
    "    fracs = N / N.max()\n",
    "    norm = colors.Normalize(fracs.min(), fracs.max())\n",
    "    for thisfrac, thispatch in zip(fracs, patches):\n",
    "        color = plt.cm.binary(norm(thisfrac))\n",
    "        thispatch.set_facecolor(color)\n",
    "    plt.legend()\n",
    "    plt.ylabel('Number of cases')\n",
    "    plt.xlabel('Normalized production value')\n",
    "    \n",
    "def histogram_fixed(Prediction,rand):\n",
    "    '''\n",
    "    From the Monte Carlo predictions we draw a random point and construct the\n",
    "    histogram of predictions from the model\n",
    "    '''\n",
    "    \n",
    "    Pred_array = np.zeros(100)\n",
    "    Pred_array = np.random.normal(loc=np.mean(Prediction[:,rand]),scale=np.std(Prediction[:,rand]),size=500)\n",
    "\n",
    "    # Histograms\n",
    "    n_bins = 15\n",
    "    fig, axs = plt.subplots(1, 1, figsize=(10, 6))\n",
    "    N, bins, patches = axs.hist(Pred_array,\n",
    "                                bins='auto',\n",
    "                                color = 'black',\n",
    "                                label='$\\sigma$ = %2.5f' % np.std(Prediction[:,rand]),\n",
    "                                rwidth = 0.85,\n",
    "                                alpha =0.85)\n",
    "    plt.legend()\n",
    "    plt.ylabel('Number of cases')\n",
    "    plt.xlabel('Normalized production value')\n",
    "    \n",
    "def plot_loss(history):\n",
    "    '''\n",
    "    Simple function to plot the loss for the training and testing data\n",
    "    '''\n",
    "    plt.figure(figsize=(12,6))\n",
    "    plt.plot(history.history['loss'], label='Training loss')\n",
    "    plt.plot(history.history['val_loss'], label='Testing loss')\n",
    "    plt.xlabel('Epoch')\n",
    "    plt.ylabel('Loss ')\n",
    "    plt.legend()\n",
    "    plt.grid(True)    \n",
    "\n",
    "def objective(trial):\n",
    "    '''\n",
    "    We use this function to define the search space for the hyperparameter search.\n",
    "    This function creates, train and evaluates the model.\n",
    "    '''\n",
    "\n",
    "    dropout = trial.suggest_discrete_uniform('Dropout', 0.05, 0.95, 0.01)\n",
    "    lr = float(trial.suggest_discrete_uniform('learn_rate', 0.001, .03, 0.001))\n",
    "    \n",
    "    model = create_model(dropout)\n",
    "    \n",
    "    opt = keras.optimizers.Adam(learning_rate=lr)\n",
    "\n",
    "    model.compile(loss='mae',\n",
    "                  optimizer=opt,\n",
    "                  metrics='mse')\n",
    "\n",
    "    model.fit(\n",
    "        X_train,\n",
    "        y_train,\n",
    "        shuffle=True,\n",
    "        batch_size=16,\n",
    "        epochs=100,\n",
    "        verbose=False,\n",
    "    )\n",
    "    score = model.evaluate(X_test, y_test, verbose=0)\n",
    "\n",
    "    mc_predictions = evaluate_cases(model, X_test, 8, y_test,100)\n",
    "    #df = get_dataframe(mc_predictions, y_test, X_test)\n",
    "    #df.to_csv('ModelPredictions.csv')\n",
    "    \n",
    "    Sigma = np.std(mc_predictions , axis = 0)\n",
    "    Pred_array = mc_predictions\n",
    "    Pred = np.mean(mc_predictions , axis = 0)    \n",
    "    A, P, G = model_eval(y_test,mc_predictions,Sigma,np.mean(mc_predictions,axis=0))\n",
    "    \n",
    "    Score = 0.5*score[0]+0.5*(1-G)\n",
    "\n",
    "    return Score\n",
    "\n",
    "def APG_calc(Truth, Pred, Sigma,n_quantiles):\n",
    "\n",
    "    mask = np.random.choice([False, True],\n",
    "                            len(Pred),\n",
    "                            p=[0.0, 1]) # To display randomly less points [Remove , Keep] in fraction\n",
    "\n",
    "    Pred=Pred[mask]\n",
    "    perc = np.linspace(0.0, 1.00, n_quantiles)\n",
    "\n",
    "    F = np.zeros(Pred.shape[0])\n",
    "    Indicator_func = np.zeros((Pred.shape[0], perc.shape[0]))\n",
    "\n",
    "    # range of symmetric p-probability intervals\n",
    "    plow = (1 - perc) / 2\n",
    "    pupp = (1 + perc) / 2\n",
    "    \n",
    "    for i in range(len(Pred)):\n",
    "        F[i] = stats.norm.cdf(Truth,\n",
    "                          loc=Pred[i],\n",
    "                          scale=Sigma)\n",
    "        for proba_low, proba_upp in zip(plow, pupp):\n",
    "            for k in range(len(plow)):\n",
    "                if plow[k] < F[i] <= pupp[k]:\n",
    "                    Indicator_func[i, k] = 1\n",
    "                else:\n",
    "                    Indicator_func[i, k] = 0\n",
    "\n",
    "    avgIndFunc = np.mean(Indicator_func, axis=0)\n",
    "    \n",
    "    return avgIndFunc\n",
    "\n",
    "def model_eval(y_test,Pred_array,Sigma,Pred):\n",
    "    \n",
    "    n_quantiles=11\n",
    "    perc = np.linspace(0.0, 1.00, n_quantiles)\n",
    "    \n",
    "    Truth = y_test\n",
    "\n",
    "    IF_array=np.zeros((Pred_array.shape[0],n_quantiles))\n",
    "\n",
    "    for i in range(Pred_array.shape[0]):\n",
    "        IF=APG_calc(Truth[i], Pred_array[:,i], Sigma[i],n_quantiles)\n",
    "        IF_array[i,:] = IF\n",
    "        \n",
    "    avgIndFunc = np.mean(IF_array, axis=0)\n",
    "\n",
    "    a = np.zeros(len(avgIndFunc))\n",
    "    for i in range(len(avgIndFunc)):\n",
    "        if avgIndFunc[i] > perc[i] or avgIndFunc[i] == perc[i]:\n",
    "            a[i] = 1\n",
    "        else:\n",
    "            a[i] = 0\n",
    "\n",
    "    Accuracy = integrate.simps(a, perc)\n",
    "\n",
    "    Prec = a*(avgIndFunc-perc)\n",
    "    \n",
    "    Precision = 1-2*integrate.simps(Prec, perc)\n",
    "\n",
    "    Sum = (3*a-2)*(avgIndFunc-perc)\n",
    "\n",
    "    Goodness = 1-integrate.simps(Sum, perc)\n",
    "    \n",
    "    print('Accuracy = {0:1.2f}'.format(Accuracy))\n",
    "    print('Precision = {0:1.2f}'.format(Precision))\n",
    "    print('Goodness = {0:1.2f}'.format(Goodness))\n",
    "\n",
    "    L = 100\n",
    "    mean = np.empty((L, len(perc)))\n",
    "\n",
    "    for p_interv in range(len(perc)):\n",
    "        for l in np.arange(0, L):\n",
    "            samples = random.choices(IF_array[:, p_interv],\n",
    "                                     k=IF_array.shape[0])\n",
    "            mean[l, p_interv] = np.mean(samples)\n",
    "\n",
    "    mask = np.random.choice([False, True],\n",
    "                            len(Pred),\n",
    "                            p=[0.95, 0.05]) # To display randomly less points [Remove , Keep] in fraction\n",
    "\n",
    "    fig,(ax1,ax2)=plt.subplots(1,2,figsize=(12,4))\n",
    "    xline = [0,max(Pred.max(),Truth.max())+max(Pred.max(),Truth.max())*0.1]#\n",
    "    yline = [0,xline[1]]#\n",
    "    ax1.errorbar(Pred[mask], Truth[mask], xerr=Sigma[mask], \n",
    "                 fmt='k.',\n",
    "                 ecolor='k')\n",
    "    ax1.plot(xline, yline, '-k')\n",
    "    ax1.set_xlabel('Predicted value, $\\hat{y}$')\n",
    "    ax1.set_ylabel('True value, $y$ ')\n",
    "    ax2.plot(perc, avgIndFunc,'-ok',markersize=5)\n",
    "    ax2.plot(perc,np.round(avgIndFunc+np.std(mean, axis=0), 3),'--k')\n",
    "    ax2.plot(perc,np.round(avgIndFunc-np.std(mean, axis=0), 3),'--k')\n",
    "    ax2.plot([0, 1],[0, 1],'-k')\n",
    "    ax2.set_ylabel(r\"$\\overline{\\xi (p)}$\")\n",
    "    ax2.set_xlabel('Probability interval $p$')\n",
    "    ax2.set_ylim(0,1)\n",
    "    ax2.set_xlim(0,1)\n",
    "    ax2.plot(perc, avgIndFunc,'-ok',markersize=5)\n",
    "    plt.show()\n",
    "    \n",
    "    return Accuracy,Precision,Goodness\n",
    "\n",
    "def evaluate_cases(model, X_s, batch_size,y_s,n_samples):\n",
    "    '''\n",
    "    This function takes the model, the testing data, a batch size and an integer representing\n",
    "    the number of samples that the model will produce.\n",
    "    '''\n",
    "    #Take n_samples to draw a distribution\n",
    "    mc_predictions = np.zeros((n_samples, y_s.shape[0]))\n",
    "    for i in range(n_samples):\n",
    "        y_p = model.predict(X_s, verbose=1, batch_size=batch_size)\n",
    "        mc_predictions[i] = (y_p[:,0])\n",
    "    \n",
    "    return mc_predictions\n",
    "\n"
   ]
  },
  {
   "cell_type": "markdown",
   "id": "suspended-steal",
   "metadata": {},
   "source": [
    "## Dataset exploration"
   ]
  },
  {
   "cell_type": "markdown",
   "id": "mechanical-survivor",
   "metadata": {},
   "source": [
    "For this notebook example we have a problem that consists on predicting **Production** from **Porosity**, **Permeability**, **Brittleness** and **TOC**. We have selected this problem because we are primarily interested in capturing the uncertainty related to predictions of Production based on existing data. \n",
    "\n",
    "This problem can be expanded to any prediction problem.\n",
    "\n",
    "First lets import the dataset:"
   ]
  },
  {
   "cell_type": "code",
   "execution_count": 9,
   "id": "alone-cooking",
   "metadata": {},
   "outputs": [],
   "source": [
    "df=pd.read_csv('https://raw.githubusercontent.com/GeostatsGuy/GeoDataSets/master/unconv_MV.csv')"
   ]
  },
  {
   "cell_type": "markdown",
   "id": "heated-copying",
   "metadata": {},
   "source": [
    "Some information about our dataset, we have 5 columns including Porosity, Permeability, Acoustic impedance, Density and Facies."
   ]
  },
  {
   "cell_type": "code",
   "execution_count": 10,
   "id": "spiritual-bedroom",
   "metadata": {},
   "outputs": [
    {
     "data": {
      "text/html": [
       "<div>\n",
       "<style scoped>\n",
       "    .dataframe tbody tr th:only-of-type {\n",
       "        vertical-align: middle;\n",
       "    }\n",
       "\n",
       "    .dataframe tbody tr th {\n",
       "        vertical-align: top;\n",
       "    }\n",
       "\n",
       "    .dataframe thead th {\n",
       "        text-align: right;\n",
       "    }\n",
       "</style>\n",
       "<table border=\"1\" class=\"dataframe\">\n",
       "  <thead>\n",
       "    <tr style=\"text-align: right;\">\n",
       "      <th></th>\n",
       "      <th>count</th>\n",
       "      <th>mean</th>\n",
       "      <th>std</th>\n",
       "      <th>min</th>\n",
       "      <th>25%</th>\n",
       "      <th>50%</th>\n",
       "      <th>75%</th>\n",
       "      <th>max</th>\n",
       "    </tr>\n",
       "  </thead>\n",
       "  <tbody>\n",
       "    <tr>\n",
       "      <th>WellIndex</th>\n",
       "      <td>1000.0</td>\n",
       "      <td>500.500000</td>\n",
       "      <td>288.819436</td>\n",
       "      <td>1.000000</td>\n",
       "      <td>250.75000</td>\n",
       "      <td>500.50000</td>\n",
       "      <td>750.250000</td>\n",
       "      <td>1000.00000</td>\n",
       "    </tr>\n",
       "    <tr>\n",
       "      <th>Por</th>\n",
       "      <td>1000.0</td>\n",
       "      <td>14.950460</td>\n",
       "      <td>3.029634</td>\n",
       "      <td>5.400000</td>\n",
       "      <td>12.85750</td>\n",
       "      <td>14.98500</td>\n",
       "      <td>17.080000</td>\n",
       "      <td>24.65000</td>\n",
       "    </tr>\n",
       "    <tr>\n",
       "      <th>LogPerm</th>\n",
       "      <td>1000.0</td>\n",
       "      <td>1.398880</td>\n",
       "      <td>0.405966</td>\n",
       "      <td>0.120000</td>\n",
       "      <td>1.13000</td>\n",
       "      <td>1.39000</td>\n",
       "      <td>1.680000</td>\n",
       "      <td>2.58000</td>\n",
       "    </tr>\n",
       "    <tr>\n",
       "      <th>AI</th>\n",
       "      <td>1000.0</td>\n",
       "      <td>2.982610</td>\n",
       "      <td>0.577629</td>\n",
       "      <td>0.960000</td>\n",
       "      <td>2.57750</td>\n",
       "      <td>3.01000</td>\n",
       "      <td>3.360000</td>\n",
       "      <td>4.70000</td>\n",
       "    </tr>\n",
       "    <tr>\n",
       "      <th>Brittle</th>\n",
       "      <td>1000.0</td>\n",
       "      <td>49.719480</td>\n",
       "      <td>15.077006</td>\n",
       "      <td>-10.500000</td>\n",
       "      <td>39.72250</td>\n",
       "      <td>49.68000</td>\n",
       "      <td>59.170000</td>\n",
       "      <td>93.47000</td>\n",
       "    </tr>\n",
       "    <tr>\n",
       "      <th>TOC</th>\n",
       "      <td>1000.0</td>\n",
       "      <td>1.003810</td>\n",
       "      <td>0.504978</td>\n",
       "      <td>-0.260000</td>\n",
       "      <td>0.64000</td>\n",
       "      <td>0.99500</td>\n",
       "      <td>1.360000</td>\n",
       "      <td>2.71000</td>\n",
       "    </tr>\n",
       "    <tr>\n",
       "      <th>VR</th>\n",
       "      <td>1000.0</td>\n",
       "      <td>1.991170</td>\n",
       "      <td>0.308194</td>\n",
       "      <td>0.900000</td>\n",
       "      <td>1.81000</td>\n",
       "      <td>2.00000</td>\n",
       "      <td>2.172500</td>\n",
       "      <td>2.90000</td>\n",
       "    </tr>\n",
       "    <tr>\n",
       "      <th>Production</th>\n",
       "      <td>1000.0</td>\n",
       "      <td>2247.295809</td>\n",
       "      <td>1464.256312</td>\n",
       "      <td>2.713535</td>\n",
       "      <td>1191.36956</td>\n",
       "      <td>1976.48782</td>\n",
       "      <td>3023.594214</td>\n",
       "      <td>12568.64413</td>\n",
       "    </tr>\n",
       "  </tbody>\n",
       "</table>\n",
       "</div>"
      ],
      "text/plain": [
       "             count         mean          std        min         25%  \\\n",
       "WellIndex   1000.0   500.500000   288.819436   1.000000   250.75000   \n",
       "Por         1000.0    14.950460     3.029634   5.400000    12.85750   \n",
       "LogPerm     1000.0     1.398880     0.405966   0.120000     1.13000   \n",
       "AI          1000.0     2.982610     0.577629   0.960000     2.57750   \n",
       "Brittle     1000.0    49.719480    15.077006 -10.500000    39.72250   \n",
       "TOC         1000.0     1.003810     0.504978  -0.260000     0.64000   \n",
       "VR          1000.0     1.991170     0.308194   0.900000     1.81000   \n",
       "Production  1000.0  2247.295809  1464.256312   2.713535  1191.36956   \n",
       "\n",
       "                   50%          75%          max  \n",
       "WellIndex    500.50000   750.250000   1000.00000  \n",
       "Por           14.98500    17.080000     24.65000  \n",
       "LogPerm        1.39000     1.680000      2.58000  \n",
       "AI             3.01000     3.360000      4.70000  \n",
       "Brittle       49.68000    59.170000     93.47000  \n",
       "TOC            0.99500     1.360000      2.71000  \n",
       "VR             2.00000     2.172500      2.90000  \n",
       "Production  1976.48782  3023.594214  12568.64413  "
      ]
     },
     "execution_count": 10,
     "metadata": {},
     "output_type": "execute_result"
    }
   ],
   "source": [
    "df.describe().transpose()"
   ]
  },
  {
   "cell_type": "markdown",
   "id": "everyday-belly",
   "metadata": {},
   "source": [
    "Now we separate or data between predictor features and response features.\n",
    "We use Porosity, Permeability, Brittleness and Total Oil Content values to predict production"
   ]
  },
  {
   "cell_type": "code",
   "execution_count": 11,
   "id": "mediterranean-linux",
   "metadata": {},
   "outputs": [],
   "source": [
    "y = df['Production'].values\n",
    "x = df[['Por', 'LogPerm', 'Brittle', 'TOC']].values"
   ]
  },
  {
   "cell_type": "markdown",
   "id": "challenging-factory",
   "metadata": {},
   "source": [
    "## Data normalization and split train-test"
   ]
  },
  {
   "cell_type": "markdown",
   "id": "promising-guitar",
   "metadata": {},
   "source": [
    "To speed up things, we can choose to randomly remove points of the dataset using the following code:\n",
    "\n",
    "```python\n",
    "mask = np.random.choice([False, True], len(x), p=[0.5, .5])  #Remove, Keep\n",
    "```"
   ]
  },
  {
   "cell_type": "code",
   "execution_count": 12,
   "id": "patent-submission",
   "metadata": {},
   "outputs": [],
   "source": [
    "mask = np.random.choice([False, True], len(x), p=[0, 1])  #Remove, Keep\n",
    "x=x[mask,:]\n",
    "y=y[mask]"
   ]
  },
  {
   "cell_type": "markdown",
   "id": "favorite-think",
   "metadata": {},
   "source": [
    "Then we perform a min max normalization over the reponse features"
   ]
  },
  {
   "cell_type": "code",
   "execution_count": 13,
   "id": "mature-point",
   "metadata": {},
   "outputs": [],
   "source": [
    "ymin=y.min()\n",
    "ymax=y.max()\n",
    "y = (y-ymin)/(ymax-ymin)"
   ]
  },
  {
   "cell_type": "markdown",
   "id": "collect-pride",
   "metadata": {},
   "source": [
    "And apply standarization over the predictor features"
   ]
  },
  {
   "cell_type": "code",
   "execution_count": 14,
   "id": "addressed-enterprise",
   "metadata": {},
   "outputs": [],
   "source": [
    "scaler = StandardScaler()\n",
    "x = scaler.fit_transform(x)"
   ]
  },
  {
   "cell_type": "markdown",
   "id": "automatic-degree",
   "metadata": {},
   "source": [
    "Next, we split our data in training-testing."
   ]
  },
  {
   "cell_type": "code",
   "execution_count": 15,
   "id": "promotional-serial",
   "metadata": {},
   "outputs": [],
   "source": [
    "X_train, X_test, y_train, y_test = train_test_split(x, y, test_size=0.33,random_state=20)"
   ]
  },
  {
   "cell_type": "markdown",
   "id": "comparative-beijing",
   "metadata": {},
   "source": [
    "## Neural network model, deterministic"
   ]
  },
  {
   "cell_type": "markdown",
   "id": "dense-newark",
   "metadata": {},
   "source": [
    "Next we define the neural network model under the class create_model. This is a classic deterministic model. We generate the exact same outcomes under a given set of initial conditions.\n"
   ]
  },
  {
   "cell_type": "code",
   "execution_count": 16,
   "id": "brazilian-calgary",
   "metadata": {},
   "outputs": [],
   "source": [
    "class create_model(keras.Model):\n",
    "    def __init__(self, **kwargs):\n",
    "        super().__init__(**kwargs)\n",
    "        self.input_layer = keras.layers.Flatten(input_shape=[x.shape[1]])\n",
    "        self.hidden1 = keras.layers.Dense(24, activation='relu')\n",
    "        self.hidden2 = keras.layers.Dense(24, activation='relu')\n",
    "        self.hidden3 = keras.layers.Dense(24, activation='relu')\n",
    "        self.output_layer = keras.layers.Dense(1)\n",
    "\n",
    "    def call(self, input, training=True):\n",
    "        input_layer = self.input_layer(input)\n",
    "        hidden1 = self.hidden1(input_layer)\n",
    "        hidden2 = self.hidden2(hidden1)\n",
    "        output_layer = self.output_layer(hidden2)\n",
    "        return output_layer"
   ]
  },
  {
   "cell_type": "markdown",
   "id": "alternate-nancy",
   "metadata": {},
   "source": [
    "The following information is used to save or load the model weights."
   ]
  },
  {
   "cell_type": "code",
   "execution_count": 17,
   "id": "adopted-confidence",
   "metadata": {},
   "outputs": [],
   "source": [
    "path = \"\"\n",
    "name = \"Production_predict\"\n",
    "weights_path = path + name + '.h5'"
   ]
  },
  {
   "cell_type": "markdown",
   "id": "prostate-thanks",
   "metadata": {},
   "source": [
    "### Training"
   ]
  },
  {
   "cell_type": "markdown",
   "id": "monthly-intermediate",
   "metadata": {},
   "source": [
    "Before training we must instantiate the model, lets use Mean Absolute Error as loss function to guide our model for better results."
   ]
  },
  {
   "cell_type": "code",
   "execution_count": 18,
   "id": "orange-hamburg",
   "metadata": {},
   "outputs": [],
   "source": [
    "model = create_model()\n",
    "\n",
    "opt = keras.optimizers.Adam(learning_rate=0.01)\n",
    "\n",
    "model.compile(loss='mae',\n",
    "              optimizer=opt,\n",
    "              metrics='mse')"
   ]
  },
  {
   "cell_type": "markdown",
   "id": "combined-turner",
   "metadata": {},
   "source": [
    "And fit our model"
   ]
  },
  {
   "cell_type": "code",
   "execution_count": 19,
   "id": "treated-trance",
   "metadata": {
    "scrolled": true
   },
   "outputs": [
    {
     "name": "stdout",
     "output_type": "stream",
     "text": [
      "Epoch 1/300\n",
      "42/42 [==============================] - 0s 4ms/step - loss: 0.0814 - mse: 0.0144 - val_loss: 0.0416 - val_mse: 0.0034\n",
      "Epoch 2/300\n",
      "42/42 [==============================] - 0s 1ms/step - loss: 0.0321 - mse: 0.0020 - val_loss: 0.0348 - val_mse: 0.0023\n",
      "Epoch 3/300\n",
      "42/42 [==============================] - 0s 1ms/step - loss: 0.0275 - mse: 0.0015 - val_loss: 0.0276 - val_mse: 0.0017\n",
      "Epoch 4/300\n",
      "42/42 [==============================] - 0s 1ms/step - loss: 0.0192 - mse: 7.2834e-04 - val_loss: 0.0239 - val_mse: 0.0015\n",
      "Epoch 5/300\n",
      "42/42 [==============================] - 0s 1ms/step - loss: 0.0217 - mse: 9.6677e-04 - val_loss: 0.0188 - val_mse: 0.0011\n",
      "Epoch 6/300\n",
      "42/42 [==============================] - 0s 1ms/step - loss: 0.0197 - mse: 8.8205e-04 - val_loss: 0.0237 - val_mse: 0.0013\n",
      "Epoch 7/300\n",
      "42/42 [==============================] - 0s 1ms/step - loss: 0.0216 - mse: 9.7121e-04 - val_loss: 0.0174 - val_mse: 0.0010\n",
      "Epoch 8/300\n",
      "42/42 [==============================] - 0s 1ms/step - loss: 0.0169 - mse: 7.0821e-04 - val_loss: 0.0208 - val_mse: 0.0011\n",
      "Epoch 9/300\n",
      "42/42 [==============================] - 0s 1ms/step - loss: 0.0136 - mse: 4.2520e-04 - val_loss: 0.0151 - val_mse: 7.7642e-04\n",
      "Epoch 10/300\n",
      "42/42 [==============================] - 0s 1ms/step - loss: 0.0130 - mse: 3.7688e-04 - val_loss: 0.0139 - val_mse: 7.4347e-04\n",
      "Epoch 11/300\n",
      "42/42 [==============================] - 0s 2ms/step - loss: 0.0154 - mse: 5.1280e-04 - val_loss: 0.0196 - val_mse: 0.0010\n",
      "Epoch 12/300\n",
      "42/42 [==============================] - 0s 2ms/step - loss: 0.0147 - mse: 4.3246e-04 - val_loss: 0.0134 - val_mse: 6.1520e-04\n",
      "Epoch 13/300\n",
      "42/42 [==============================] - 0s 1ms/step - loss: 0.0146 - mse: 5.4891e-04 - val_loss: 0.0167 - val_mse: 9.1230e-04\n",
      "Epoch 14/300\n",
      "42/42 [==============================] - 0s 1ms/step - loss: 0.0148 - mse: 5.1257e-04 - val_loss: 0.0157 - val_mse: 8.3598e-04\n",
      "Epoch 15/300\n",
      "42/42 [==============================] - 0s 1ms/step - loss: 0.0109 - mse: 2.9622e-04 - val_loss: 0.0126 - val_mse: 6.3203e-04\n",
      "Epoch 16/300\n",
      "42/42 [==============================] - 0s 1ms/step - loss: 0.0154 - mse: 5.1265e-04 - val_loss: 0.0114 - val_mse: 5.4699e-04\n",
      "Epoch 17/300\n",
      "42/42 [==============================] - 0s 1ms/step - loss: 0.0100 - mse: 2.4569e-04 - val_loss: 0.0106 - val_mse: 5.0593e-04\n",
      "Epoch 18/300\n",
      "42/42 [==============================] - 0s 1ms/step - loss: 0.0113 - mse: 2.6259e-04 - val_loss: 0.0188 - val_mse: 6.8315e-04\n",
      "Epoch 19/300\n",
      "42/42 [==============================] - 0s 1ms/step - loss: 0.0105 - mse: 2.4215e-04 - val_loss: 0.0111 - val_mse: 4.5334e-04\n",
      "Epoch 20/300\n",
      "42/42 [==============================] - 0s 1ms/step - loss: 0.0100 - mse: 2.1796e-04 - val_loss: 0.0102 - val_mse: 4.5106e-04\n",
      "Epoch 21/300\n",
      "42/42 [==============================] - 0s 1ms/step - loss: 0.0100 - mse: 2.3250e-04 - val_loss: 0.0143 - val_mse: 6.4058e-04\n",
      "Epoch 22/300\n",
      "42/42 [==============================] - 0s 1ms/step - loss: 0.0111 - mse: 2.4717e-04 - val_loss: 0.0105 - val_mse: 4.8525e-04\n",
      "Epoch 23/300\n",
      "42/42 [==============================] - 0s 1ms/step - loss: 0.0116 - mse: 2.7866e-04 - val_loss: 0.0140 - val_mse: 6.2280e-04\n",
      "Epoch 24/300\n",
      "42/42 [==============================] - 0s 1ms/step - loss: 0.0104 - mse: 2.2747e-04 - val_loss: 0.0106 - val_mse: 4.1180e-04\n",
      "Epoch 25/300\n",
      "42/42 [==============================] - 0s 1ms/step - loss: 0.0089 - mse: 1.9595e-04 - val_loss: 0.0081 - val_mse: 3.2163e-04\n",
      "Epoch 26/300\n",
      "42/42 [==============================] - 0s 1ms/step - loss: 0.0111 - mse: 2.3746e-04 - val_loss: 0.0088 - val_mse: 3.7616e-04\n",
      "Epoch 27/300\n",
      "42/42 [==============================] - 0s 1ms/step - loss: 0.0077 - mse: 1.2487e-04 - val_loss: 0.0099 - val_mse: 4.1804e-04\n",
      "Epoch 28/300\n",
      "42/42 [==============================] - 0s 1ms/step - loss: 0.0110 - mse: 2.7573e-04 - val_loss: 0.0101 - val_mse: 3.9446e-04\n",
      "Epoch 29/300\n",
      "42/42 [==============================] - 0s 1ms/step - loss: 0.0076 - mse: 1.3862e-04 - val_loss: 0.0106 - val_mse: 3.4492e-04\n",
      "Epoch 30/300\n",
      "42/42 [==============================] - 0s 1ms/step - loss: 0.0073 - mse: 1.2542e-04 - val_loss: 0.0089 - val_mse: 4.0501e-04\n",
      "Epoch 31/300\n",
      "42/42 [==============================] - 0s 1ms/step - loss: 0.0089 - mse: 1.9394e-04 - val_loss: 0.0118 - val_mse: 3.9765e-04\n",
      "Epoch 32/300\n",
      "42/42 [==============================] - 0s 1ms/step - loss: 0.0096 - mse: 1.8953e-04 - val_loss: 0.0115 - val_mse: 4.5696e-04\n",
      "Epoch 33/300\n",
      "42/42 [==============================] - 0s 1ms/step - loss: 0.0107 - mse: 2.4836e-04 - val_loss: 0.0122 - val_mse: 4.6006e-04\n",
      "Epoch 34/300\n",
      "42/42 [==============================] - 0s 1ms/step - loss: 0.0089 - mse: 1.6931e-04 - val_loss: 0.0073 - val_mse: 2.2432e-04\n",
      "Epoch 35/300\n",
      "42/42 [==============================] - 0s 1ms/step - loss: 0.0073 - mse: 1.1949e-04 - val_loss: 0.0079 - val_mse: 2.1966e-04\n",
      "Epoch 36/300\n",
      "42/42 [==============================] - 0s 1ms/step - loss: 0.0074 - mse: 1.4117e-04 - val_loss: 0.0142 - val_mse: 5.1516e-04\n",
      "Epoch 37/300\n",
      "42/42 [==============================] - 0s 1ms/step - loss: 0.0087 - mse: 1.7177e-04 - val_loss: 0.0085 - val_mse: 2.3251e-04\n",
      "Epoch 38/300\n",
      "42/42 [==============================] - 0s 1ms/step - loss: 0.0090 - mse: 1.6235e-04 - val_loss: 0.0110 - val_mse: 3.9395e-04\n",
      "Epoch 39/300\n",
      "42/42 [==============================] - 0s 1ms/step - loss: 0.0110 - mse: 2.2397e-04 - val_loss: 0.0186 - val_mse: 6.4351e-04\n",
      "Epoch 40/300\n",
      "42/42 [==============================] - 0s 1ms/step - loss: 0.0110 - mse: 2.3720e-04 - val_loss: 0.0180 - val_mse: 6.3284e-04\n",
      "Epoch 41/300\n",
      "42/42 [==============================] - 0s 1ms/step - loss: 0.0107 - mse: 2.6746e-04 - val_loss: 0.0099 - val_mse: 2.7985e-04\n",
      "Epoch 42/300\n",
      "42/42 [==============================] - 0s 1ms/step - loss: 0.0089 - mse: 1.6761e-04 - val_loss: 0.0085 - val_mse: 2.5701e-04\n",
      "Epoch 43/300\n",
      "42/42 [==============================] - 0s 1ms/step - loss: 0.0080 - mse: 1.3475e-04 - val_loss: 0.0072 - val_mse: 1.3918e-04\n",
      "Epoch 44/300\n",
      "42/42 [==============================] - 0s 1ms/step - loss: 0.0076 - mse: 1.3504e-04 - val_loss: 0.0078 - val_mse: 1.8957e-04\n",
      "Epoch 45/300\n",
      "42/42 [==============================] - 0s 1ms/step - loss: 0.0074 - mse: 1.2305e-04 - val_loss: 0.0089 - val_mse: 2.9211e-04\n",
      "Epoch 46/300\n",
      "42/42 [==============================] - 0s 1ms/step - loss: 0.0089 - mse: 1.5870e-04 - val_loss: 0.0083 - val_mse: 1.7516e-04\n",
      "Epoch 47/300\n",
      "42/42 [==============================] - 0s 1ms/step - loss: 0.0072 - mse: 1.2776e-04 - val_loss: 0.0069 - val_mse: 3.1085e-04\n",
      "Epoch 48/300\n",
      "42/42 [==============================] - 0s 1ms/step - loss: 0.0070 - mse: 1.1037e-04 - val_loss: 0.0090 - val_mse: 1.9641e-04\n",
      "Epoch 49/300\n",
      "42/42 [==============================] - 0s 1ms/step - loss: 0.0073 - mse: 1.2342e-04 - val_loss: 0.0087 - val_mse: 2.9335e-04\n",
      "Epoch 50/300\n",
      "42/42 [==============================] - 0s 1ms/step - loss: 0.0073 - mse: 1.2199e-04 - val_loss: 0.0071 - val_mse: 1.6971e-04\n",
      "Epoch 51/300\n",
      "42/42 [==============================] - 0s 1ms/step - loss: 0.0083 - mse: 1.4028e-04 - val_loss: 0.0111 - val_mse: 3.7563e-04\n",
      "Epoch 52/300\n",
      "42/42 [==============================] - 0s 1ms/step - loss: 0.0089 - mse: 1.7357e-04 - val_loss: 0.0091 - val_mse: 2.7233e-04\n",
      "Epoch 53/300\n",
      "42/42 [==============================] - 0s 1ms/step - loss: 0.0076 - mse: 1.2993e-04 - val_loss: 0.0093 - val_mse: 2.9423e-04\n",
      "Epoch 54/300\n",
      "42/42 [==============================] - 0s 1ms/step - loss: 0.0078 - mse: 1.3151e-04 - val_loss: 0.0072 - val_mse: 2.2456e-04\n",
      "Epoch 55/300\n",
      "42/42 [==============================] - 0s 1ms/step - loss: 0.0090 - mse: 1.6556e-04 - val_loss: 0.0071 - val_mse: 1.9486e-04\n",
      "Epoch 56/300\n",
      "42/42 [==============================] - 0s 1ms/step - loss: 0.0072 - mse: 1.2739e-04 - val_loss: 0.0113 - val_mse: 3.4445e-04\n",
      "Epoch 57/300\n",
      "42/42 [==============================] - 0s 1ms/step - loss: 0.0070 - mse: 1.0624e-04 - val_loss: 0.0068 - val_mse: 1.9313e-04\n",
      "Epoch 58/300\n",
      "42/42 [==============================] - 0s 1ms/step - loss: 0.0075 - mse: 1.1394e-04 - val_loss: 0.0073 - val_mse: 1.7004e-04\n",
      "Epoch 59/300\n",
      "42/42 [==============================] - 0s 1ms/step - loss: 0.0095 - mse: 1.6963e-04 - val_loss: 0.0075 - val_mse: 2.1849e-04\n"
     ]
    },
    {
     "name": "stdout",
     "output_type": "stream",
     "text": [
      "Epoch 60/300\n",
      "42/42 [==============================] - 0s 1ms/step - loss: 0.0086 - mse: 1.5963e-04 - val_loss: 0.0094 - val_mse: 2.2123e-04\n",
      "Epoch 61/300\n",
      "42/42 [==============================] - 0s 1ms/step - loss: 0.0063 - mse: 8.4366e-05 - val_loss: 0.0077 - val_mse: 2.2877e-04\n",
      "Epoch 62/300\n",
      "42/42 [==============================] - 0s 1ms/step - loss: 0.0077 - mse: 1.3357e-04 - val_loss: 0.0066 - val_mse: 1.8032e-04\n",
      "Epoch 63/300\n",
      "42/42 [==============================] - 0s 1ms/step - loss: 0.0066 - mse: 9.2224e-05 - val_loss: 0.0073 - val_mse: 2.0599e-04\n",
      "Epoch 64/300\n",
      "42/42 [==============================] - 0s 1ms/step - loss: 0.0062 - mse: 8.2988e-05 - val_loss: 0.0082 - val_mse: 1.9170e-04\n",
      "Epoch 65/300\n",
      "42/42 [==============================] - 0s 1ms/step - loss: 0.0077 - mse: 1.2470e-04 - val_loss: 0.0117 - val_mse: 3.3148e-04\n",
      "Epoch 66/300\n",
      "42/42 [==============================] - 0s 1ms/step - loss: 0.0077 - mse: 1.2306e-04 - val_loss: 0.0099 - val_mse: 2.6347e-04\n",
      "Epoch 67/300\n",
      "42/42 [==============================] - 0s 1ms/step - loss: 0.0074 - mse: 1.2708e-04 - val_loss: 0.0066 - val_mse: 1.6140e-04\n",
      "Epoch 68/300\n",
      "42/42 [==============================] - 0s 1ms/step - loss: 0.0061 - mse: 7.8551e-05 - val_loss: 0.0069 - val_mse: 1.6546e-04\n",
      "Epoch 69/300\n",
      "42/42 [==============================] - 0s 1ms/step - loss: 0.0061 - mse: 9.2213e-05 - val_loss: 0.0056 - val_mse: 1.2738e-04\n",
      "Epoch 70/300\n",
      "42/42 [==============================] - 0s 1ms/step - loss: 0.0067 - mse: 8.9408e-05 - val_loss: 0.0066 - val_mse: 1.7455e-04\n",
      "Epoch 71/300\n",
      "42/42 [==============================] - 0s 1ms/step - loss: 0.0076 - mse: 1.1460e-04 - val_loss: 0.0080 - val_mse: 2.1001e-04\n",
      "Epoch 72/300\n",
      "42/42 [==============================] - 0s 1ms/step - loss: 0.0077 - mse: 1.3617e-04 - val_loss: 0.0071 - val_mse: 1.7298e-04\n",
      "Epoch 73/300\n",
      "42/42 [==============================] - 0s 1ms/step - loss: 0.0075 - mse: 1.1852e-04 - val_loss: 0.0095 - val_mse: 2.2529e-04\n",
      "Epoch 74/300\n",
      "42/42 [==============================] - 0s 1ms/step - loss: 0.0079 - mse: 1.1709e-04 - val_loss: 0.0068 - val_mse: 2.0934e-04\n",
      "Epoch 75/300\n",
      "42/42 [==============================] - 0s 1ms/step - loss: 0.0075 - mse: 1.2801e-04 - val_loss: 0.0067 - val_mse: 1.9504e-04\n",
      "Epoch 76/300\n",
      "42/42 [==============================] - 0s 1ms/step - loss: 0.0089 - mse: 1.5742e-04 - val_loss: 0.0080 - val_mse: 2.4277e-04\n",
      "Epoch 77/300\n",
      "42/42 [==============================] - 0s 1ms/step - loss: 0.0081 - mse: 1.3807e-04 - val_loss: 0.0064 - val_mse: 2.4792e-04\n",
      "Epoch 78/300\n",
      "42/42 [==============================] - 0s 1ms/step - loss: 0.0061 - mse: 8.3497e-05 - val_loss: 0.0080 - val_mse: 1.6929e-04\n",
      "Epoch 79/300\n",
      "42/42 [==============================] - 0s 1ms/step - loss: 0.0067 - mse: 8.7929e-05 - val_loss: 0.0094 - val_mse: 3.2079e-04\n",
      "Epoch 80/300\n",
      "42/42 [==============================] - 0s 1ms/step - loss: 0.0071 - mse: 1.1046e-04 - val_loss: 0.0084 - val_mse: 2.7403e-04\n",
      "Epoch 81/300\n",
      "42/42 [==============================] - 0s 1ms/step - loss: 0.0061 - mse: 8.1145e-05 - val_loss: 0.0073 - val_mse: 1.7889e-04\n",
      "Epoch 82/300\n",
      "42/42 [==============================] - 0s 1ms/step - loss: 0.0059 - mse: 7.3867e-05 - val_loss: 0.0110 - val_mse: 2.8726e-04\n",
      "Epoch 83/300\n",
      "42/42 [==============================] - 0s 1ms/step - loss: 0.0071 - mse: 1.0777e-04 - val_loss: 0.0079 - val_mse: 1.2290e-04\n",
      "Epoch 84/300\n",
      "42/42 [==============================] - 0s 1ms/step - loss: 0.0071 - mse: 9.9660e-05 - val_loss: 0.0080 - val_mse: 1.7097e-04\n",
      "Epoch 85/300\n",
      "42/42 [==============================] - 0s 1ms/step - loss: 0.0078 - mse: 1.2465e-04 - val_loss: 0.0123 - val_mse: 2.4871e-04\n",
      "Epoch 86/300\n",
      "42/42 [==============================] - 0s 1ms/step - loss: 0.0078 - mse: 1.3280e-04 - val_loss: 0.0110 - val_mse: 4.5761e-04\n",
      "Epoch 87/300\n",
      "42/42 [==============================] - 0s 1ms/step - loss: 0.0076 - mse: 1.2276e-04 - val_loss: 0.0070 - val_mse: 1.8337e-04\n",
      "Epoch 88/300\n",
      "42/42 [==============================] - 0s 1ms/step - loss: 0.0052 - mse: 5.5426e-05 - val_loss: 0.0097 - val_mse: 2.6099e-04\n",
      "Epoch 89/300\n",
      "42/42 [==============================] - 0s 1ms/step - loss: 0.0078 - mse: 1.2732e-04 - val_loss: 0.0054 - val_mse: 1.0984e-04\n",
      "Epoch 90/300\n",
      "42/42 [==============================] - 0s 1ms/step - loss: 0.0053 - mse: 5.7590e-05 - val_loss: 0.0053 - val_mse: 8.7908e-05\n",
      "Epoch 91/300\n",
      "42/42 [==============================] - 0s 1ms/step - loss: 0.0060 - mse: 7.9880e-05 - val_loss: 0.0066 - val_mse: 1.5811e-04\n",
      "Epoch 92/300\n",
      "42/42 [==============================] - 0s 1ms/step - loss: 0.0063 - mse: 8.1073e-05 - val_loss: 0.0062 - val_mse: 1.0965e-04\n",
      "Epoch 93/300\n",
      "42/42 [==============================] - 0s 1ms/step - loss: 0.0062 - mse: 7.7131e-05 - val_loss: 0.0082 - val_mse: 2.6179e-04\n",
      "Epoch 94/300\n",
      "42/42 [==============================] - 0s 1ms/step - loss: 0.0060 - mse: 6.9024e-05 - val_loss: 0.0071 - val_mse: 1.4102e-04\n",
      "Epoch 95/300\n",
      "42/42 [==============================] - 0s 1ms/step - loss: 0.0069 - mse: 1.0865e-04 - val_loss: 0.0062 - val_mse: 1.8163e-04\n",
      "Epoch 96/300\n",
      "42/42 [==============================] - 0s 1ms/step - loss: 0.0069 - mse: 9.1299e-05 - val_loss: 0.0061 - val_mse: 1.3345e-04\n",
      "Epoch 97/300\n",
      "42/42 [==============================] - 0s 1ms/step - loss: 0.0062 - mse: 7.9084e-05 - val_loss: 0.0062 - val_mse: 1.7969e-04\n",
      "Epoch 98/300\n",
      "42/42 [==============================] - 0s 1ms/step - loss: 0.0072 - mse: 1.1458e-04 - val_loss: 0.0082 - val_mse: 1.8245e-04\n",
      "Epoch 99/300\n",
      "42/42 [==============================] - 0s 1ms/step - loss: 0.0068 - mse: 8.9391e-05 - val_loss: 0.0073 - val_mse: 1.4253e-04\n",
      "Epoch 100/300\n",
      "42/42 [==============================] - 0s 1ms/step - loss: 0.0064 - mse: 7.8243e-05 - val_loss: 0.0066 - val_mse: 1.3368e-04\n",
      "Epoch 101/300\n",
      "42/42 [==============================] - 0s 1ms/step - loss: 0.0065 - mse: 1.0142e-04 - val_loss: 0.0081 - val_mse: 1.7462e-04\n",
      "Epoch 102/300\n",
      "42/42 [==============================] - 0s 1ms/step - loss: 0.0057 - mse: 7.1083e-05 - val_loss: 0.0090 - val_mse: 1.9999e-04\n",
      "Epoch 103/300\n",
      "42/42 [==============================] - 0s 1ms/step - loss: 0.0061 - mse: 7.7310e-05 - val_loss: 0.0055 - val_mse: 1.2330e-04\n",
      "Epoch 104/300\n",
      "42/42 [==============================] - 0s 1ms/step - loss: 0.0060 - mse: 6.9998e-05 - val_loss: 0.0061 - val_mse: 1.5232e-04\n",
      "Epoch 105/300\n",
      "42/42 [==============================] - 0s 1ms/step - loss: 0.0077 - mse: 1.3061e-04 - val_loss: 0.0112 - val_mse: 2.4474e-04\n",
      "Epoch 106/300\n",
      "42/42 [==============================] - 0s 1ms/step - loss: 0.0059 - mse: 6.8639e-05 - val_loss: 0.0061 - val_mse: 1.4186e-04\n",
      "Epoch 107/300\n",
      "42/42 [==============================] - 0s 2ms/step - loss: 0.0064 - mse: 9.0115e-05 - val_loss: 0.0079 - val_mse: 1.3575e-04\n",
      "Epoch 108/300\n",
      "42/42 [==============================] - 0s 1ms/step - loss: 0.0074 - mse: 1.1147e-04 - val_loss: 0.0067 - val_mse: 1.2212e-04\n",
      "Epoch 109/300\n",
      "42/42 [==============================] - 0s 1ms/step - loss: 0.0058 - mse: 7.5483e-05 - val_loss: 0.0065 - val_mse: 1.4294e-04\n",
      "Epoch 110/300\n",
      "42/42 [==============================] - 0s 1ms/step - loss: 0.0064 - mse: 7.6710e-05 - val_loss: 0.0047 - val_mse: 9.3679e-05\n",
      "Epoch 111/300\n",
      "42/42 [==============================] - 0s 1ms/step - loss: 0.0069 - mse: 9.7101e-05 - val_loss: 0.0090 - val_mse: 2.9455e-04\n",
      "Epoch 112/300\n",
      "42/42 [==============================] - 0s 1ms/step - loss: 0.0067 - mse: 8.4727e-05 - val_loss: 0.0058 - val_mse: 1.4088e-04\n",
      "Epoch 113/300\n",
      "42/42 [==============================] - 0s 1ms/step - loss: 0.0060 - mse: 9.0757e-05 - val_loss: 0.0081 - val_mse: 2.5385e-04\n",
      "Epoch 114/300\n",
      "42/42 [==============================] - 0s 1ms/step - loss: 0.0073 - mse: 1.0066e-04 - val_loss: 0.0098 - val_mse: 3.0367e-04\n",
      "Epoch 115/300\n",
      "42/42 [==============================] - 0s 1ms/step - loss: 0.0073 - mse: 9.9026e-05 - val_loss: 0.0067 - val_mse: 1.8737e-04\n",
      "Epoch 116/300\n",
      "42/42 [==============================] - 0s 1ms/step - loss: 0.0067 - mse: 7.5559e-05 - val_loss: 0.0088 - val_mse: 1.4902e-04\n",
      "Epoch 117/300\n",
      "42/42 [==============================] - 0s 1ms/step - loss: 0.0083 - mse: 1.1594e-04 - val_loss: 0.0080 - val_mse: 1.5817e-04\n",
      "Epoch 118/300\n"
     ]
    },
    {
     "name": "stdout",
     "output_type": "stream",
     "text": [
      "42/42 [==============================] - 0s 1ms/step - loss: 0.0064 - mse: 9.1852e-05 - val_loss: 0.0080 - val_mse: 2.3247e-04\n",
      "Epoch 119/300\n",
      "42/42 [==============================] - 0s 1ms/step - loss: 0.0076 - mse: 1.2927e-04 - val_loss: 0.0061 - val_mse: 1.2387e-04\n",
      "Epoch 120/300\n",
      "42/42 [==============================] - 0s 1ms/step - loss: 0.0060 - mse: 6.8821e-05 - val_loss: 0.0080 - val_mse: 1.8310e-04\n",
      "Epoch 121/300\n",
      "42/42 [==============================] - 0s 1ms/step - loss: 0.0067 - mse: 9.2615e-05 - val_loss: 0.0068 - val_mse: 1.6435e-04\n",
      "Epoch 122/300\n",
      "42/42 [==============================] - 0s 1ms/step - loss: 0.0055 - mse: 5.2821e-05 - val_loss: 0.0070 - val_mse: 1.1260e-04\n",
      "Epoch 123/300\n",
      "42/42 [==============================] - 0s 1ms/step - loss: 0.0070 - mse: 9.1530e-05 - val_loss: 0.0072 - val_mse: 2.3776e-04\n",
      "Epoch 124/300\n",
      "42/42 [==============================] - 0s 1ms/step - loss: 0.0061 - mse: 8.6660e-05 - val_loss: 0.0061 - val_mse: 1.7995e-04\n",
      "Epoch 125/300\n",
      "42/42 [==============================] - 0s 1ms/step - loss: 0.0055 - mse: 6.0655e-05 - val_loss: 0.0081 - val_mse: 3.0223e-04\n",
      "Epoch 126/300\n",
      "42/42 [==============================] - 0s 1ms/step - loss: 0.0062 - mse: 6.6649e-05 - val_loss: 0.0067 - val_mse: 1.8752e-04\n",
      "Epoch 127/300\n",
      "42/42 [==============================] - 0s 1ms/step - loss: 0.0058 - mse: 6.8041e-05 - val_loss: 0.0067 - val_mse: 1.9133e-04\n",
      "Epoch 128/300\n",
      "42/42 [==============================] - 0s 1ms/step - loss: 0.0068 - mse: 9.9772e-05 - val_loss: 0.0087 - val_mse: 1.8831e-04\n",
      "Epoch 129/300\n",
      "42/42 [==============================] - 0s 1ms/step - loss: 0.0070 - mse: 9.8302e-05 - val_loss: 0.0069 - val_mse: 1.7968e-04\n",
      "Epoch 130/300\n",
      "42/42 [==============================] - 0s 1ms/step - loss: 0.0063 - mse: 7.9842e-05 - val_loss: 0.0071 - val_mse: 1.0258e-04\n",
      "Epoch 131/300\n",
      "42/42 [==============================] - 0s 1ms/step - loss: 0.0058 - mse: 7.1312e-05 - val_loss: 0.0075 - val_mse: 1.4695e-04\n",
      "Epoch 132/300\n",
      "42/42 [==============================] - 0s 1ms/step - loss: 0.0064 - mse: 8.5862e-05 - val_loss: 0.0100 - val_mse: 2.6444e-04\n",
      "Epoch 133/300\n",
      "42/42 [==============================] - 0s 1ms/step - loss: 0.0068 - mse: 9.0690e-05 - val_loss: 0.0118 - val_mse: 4.1715e-04\n",
      "Epoch 134/300\n",
      "42/42 [==============================] - 0s 1ms/step - loss: 0.0063 - mse: 1.0103e-04 - val_loss: 0.0056 - val_mse: 1.4445e-04\n",
      "Epoch 135/300\n",
      "42/42 [==============================] - 0s 1ms/step - loss: 0.0051 - mse: 4.8866e-05 - val_loss: 0.0052 - val_mse: 1.4140e-04\n",
      "Epoch 136/300\n",
      "42/42 [==============================] - 0s 1ms/step - loss: 0.0059 - mse: 6.8648e-05 - val_loss: 0.0065 - val_mse: 2.3243e-04\n",
      "Epoch 137/300\n",
      "42/42 [==============================] - 0s 1ms/step - loss: 0.0076 - mse: 1.2946e-04 - val_loss: 0.0070 - val_mse: 1.5256e-04\n",
      "Epoch 138/300\n",
      "42/42 [==============================] - 0s 1ms/step - loss: 0.0060 - mse: 7.3030e-05 - val_loss: 0.0061 - val_mse: 1.5503e-04\n",
      "Epoch 139/300\n",
      "42/42 [==============================] - 0s 1ms/step - loss: 0.0067 - mse: 8.2716e-05 - val_loss: 0.0081 - val_mse: 1.8602e-04\n",
      "Epoch 140/300\n",
      "42/42 [==============================] - 0s 1ms/step - loss: 0.0065 - mse: 8.4998e-05 - val_loss: 0.0082 - val_mse: 1.5034e-04\n",
      "Epoch 141/300\n",
      "42/42 [==============================] - 0s 1ms/step - loss: 0.0053 - mse: 6.2398e-05 - val_loss: 0.0057 - val_mse: 1.1957e-04\n",
      "Epoch 142/300\n",
      "42/42 [==============================] - 0s 1ms/step - loss: 0.0058 - mse: 6.6173e-05 - val_loss: 0.0056 - val_mse: 1.7083e-04\n",
      "Epoch 143/300\n",
      "42/42 [==============================] - 0s 1ms/step - loss: 0.0052 - mse: 6.0733e-05 - val_loss: 0.0057 - val_mse: 1.0661e-04\n",
      "Epoch 144/300\n",
      "42/42 [==============================] - 0s 1ms/step - loss: 0.0063 - mse: 8.0522e-05 - val_loss: 0.0064 - val_mse: 1.1473e-04\n",
      "Epoch 145/300\n",
      "42/42 [==============================] - 0s 1ms/step - loss: 0.0055 - mse: 5.6711e-05 - val_loss: 0.0079 - val_mse: 1.1944e-04\n",
      "Epoch 146/300\n",
      "42/42 [==============================] - 0s 1ms/step - loss: 0.0057 - mse: 7.4152e-05 - val_loss: 0.0098 - val_mse: 2.1069e-04\n",
      "Epoch 147/300\n",
      "42/42 [==============================] - 0s 1ms/step - loss: 0.0055 - mse: 5.6855e-05 - val_loss: 0.0060 - val_mse: 1.3591e-04\n",
      "Epoch 148/300\n",
      "42/42 [==============================] - 0s 1ms/step - loss: 0.0057 - mse: 6.3899e-05 - val_loss: 0.0070 - val_mse: 1.6339e-04\n",
      "Epoch 149/300\n",
      "42/42 [==============================] - 0s 1ms/step - loss: 0.0060 - mse: 7.5358e-05 - val_loss: 0.0052 - val_mse: 1.1788e-04\n",
      "Epoch 150/300\n",
      "42/42 [==============================] - 0s 1ms/step - loss: 0.0044 - mse: 4.2842e-05 - val_loss: 0.0048 - val_mse: 1.0681e-04\n",
      "Epoch 151/300\n",
      "42/42 [==============================] - 0s 1ms/step - loss: 0.0072 - mse: 1.2054e-04 - val_loss: 0.0095 - val_mse: 3.0137e-04\n",
      "Epoch 152/300\n",
      "42/42 [==============================] - 0s 1ms/step - loss: 0.0066 - mse: 8.1178e-05 - val_loss: 0.0073 - val_mse: 2.0710e-04\n",
      "Epoch 153/300\n",
      "42/42 [==============================] - 0s 1ms/step - loss: 0.0053 - mse: 5.5720e-05 - val_loss: 0.0048 - val_mse: 1.0204e-04\n",
      "Epoch 154/300\n",
      "42/42 [==============================] - 0s 1ms/step - loss: 0.0069 - mse: 9.0737e-05 - val_loss: 0.0091 - val_mse: 2.3716e-04\n",
      "Epoch 155/300\n",
      "42/42 [==============================] - 0s 1ms/step - loss: 0.0063 - mse: 7.4583e-05 - val_loss: 0.0068 - val_mse: 1.6047e-04\n",
      "Epoch 156/300\n",
      "42/42 [==============================] - 0s 1ms/step - loss: 0.0056 - mse: 6.0576e-05 - val_loss: 0.0059 - val_mse: 1.2939e-04\n",
      "Epoch 157/300\n",
      "42/42 [==============================] - 0s 1ms/step - loss: 0.0057 - mse: 6.3907e-05 - val_loss: 0.0081 - val_mse: 1.7977e-04\n",
      "Epoch 158/300\n",
      "42/42 [==============================] - 0s 1ms/step - loss: 0.0059 - mse: 7.3962e-05 - val_loss: 0.0106 - val_mse: 3.1322e-04\n",
      "Epoch 159/300\n",
      "42/42 [==============================] - 0s 1ms/step - loss: 0.0082 - mse: 1.5051e-04 - val_loss: 0.0045 - val_mse: 5.7628e-05\n",
      "Epoch 160/300\n",
      "42/42 [==============================] - 0s 1ms/step - loss: 0.0052 - mse: 6.6603e-05 - val_loss: 0.0060 - val_mse: 9.9346e-05\n",
      "Epoch 161/300\n",
      "42/42 [==============================] - 0s 1ms/step - loss: 0.0052 - mse: 5.5048e-05 - val_loss: 0.0064 - val_mse: 1.1103e-04\n",
      "Epoch 162/300\n",
      "42/42 [==============================] - 0s 1ms/step - loss: 0.0063 - mse: 7.4024e-05 - val_loss: 0.0074 - val_mse: 1.3934e-04\n",
      "Epoch 163/300\n",
      "42/42 [==============================] - 0s 1ms/step - loss: 0.0052 - mse: 5.5069e-05 - val_loss: 0.0053 - val_mse: 1.3712e-04\n",
      "Epoch 164/300\n",
      "42/42 [==============================] - 0s 1ms/step - loss: 0.0047 - mse: 4.6915e-05 - val_loss: 0.0079 - val_mse: 1.4469e-04\n",
      "Epoch 165/300\n",
      "42/42 [==============================] - 0s 1ms/step - loss: 0.0054 - mse: 6.3470e-05 - val_loss: 0.0082 - val_mse: 2.7247e-04\n",
      "Epoch 166/300\n",
      "42/42 [==============================] - 0s 1ms/step - loss: 0.0073 - mse: 1.0336e-04 - val_loss: 0.0094 - val_mse: 2.3560e-04\n",
      "Epoch 167/300\n",
      "42/42 [==============================] - 0s 1ms/step - loss: 0.0061 - mse: 6.8783e-05 - val_loss: 0.0053 - val_mse: 8.4373e-05\n",
      "Epoch 168/300\n",
      "42/42 [==============================] - 0s 1ms/step - loss: 0.0056 - mse: 5.9468e-05 - val_loss: 0.0068 - val_mse: 1.5222e-04\n",
      "Epoch 169/300\n",
      "42/42 [==============================] - 0s 1ms/step - loss: 0.0073 - mse: 1.1458e-04 - val_loss: 0.0053 - val_mse: 1.1981e-04\n",
      "Epoch 170/300\n",
      "42/42 [==============================] - 0s 1ms/step - loss: 0.0055 - mse: 5.7259e-05 - val_loss: 0.0049 - val_mse: 1.0878e-04\n",
      "Epoch 171/300\n",
      "42/42 [==============================] - 0s 1ms/step - loss: 0.0065 - mse: 8.1650e-05 - val_loss: 0.0064 - val_mse: 1.3175e-04\n",
      "Epoch 172/300\n",
      "42/42 [==============================] - 0s 1ms/step - loss: 0.0056 - mse: 6.3932e-05 - val_loss: 0.0047 - val_mse: 9.2474e-05\n",
      "Epoch 173/300\n",
      "42/42 [==============================] - 0s 1ms/step - loss: 0.0065 - mse: 9.6580e-05 - val_loss: 0.0057 - val_mse: 1.4144e-04\n",
      "Epoch 174/300\n",
      "42/42 [==============================] - 0s 1ms/step - loss: 0.0049 - mse: 4.9481e-05 - val_loss: 0.0043 - val_mse: 8.3490e-05\n",
      "Epoch 175/300\n",
      "42/42 [==============================] - 0s 1ms/step - loss: 0.0054 - mse: 5.8062e-05 - val_loss: 0.0057 - val_mse: 1.3072e-04\n",
      "Epoch 176/300\n"
     ]
    },
    {
     "name": "stdout",
     "output_type": "stream",
     "text": [
      "42/42 [==============================] - 0s 1ms/step - loss: 0.0060 - mse: 6.8270e-05 - val_loss: 0.0063 - val_mse: 1.4447e-04\n",
      "Epoch 177/300\n",
      "42/42 [==============================] - 0s 1ms/step - loss: 0.0061 - mse: 8.5488e-05 - val_loss: 0.0068 - val_mse: 1.1309e-04\n",
      "Epoch 178/300\n",
      "42/42 [==============================] - 0s 1ms/step - loss: 0.0071 - mse: 1.0531e-04 - val_loss: 0.0084 - val_mse: 1.8008e-04\n",
      "Epoch 179/300\n",
      "42/42 [==============================] - 0s 1ms/step - loss: 0.0057 - mse: 6.2985e-05 - val_loss: 0.0045 - val_mse: 5.8746e-05\n",
      "Epoch 180/300\n",
      "42/42 [==============================] - 0s 1ms/step - loss: 0.0054 - mse: 5.6227e-05 - val_loss: 0.0061 - val_mse: 1.0869e-04\n",
      "Epoch 181/300\n",
      "42/42 [==============================] - 0s 1ms/step - loss: 0.0058 - mse: 7.0476e-05 - val_loss: 0.0086 - val_mse: 1.6577e-04\n",
      "Epoch 182/300\n",
      "42/42 [==============================] - 0s 1ms/step - loss: 0.0064 - mse: 8.1801e-05 - val_loss: 0.0048 - val_mse: 6.9696e-05\n",
      "Epoch 183/300\n",
      "42/42 [==============================] - 0s 1ms/step - loss: 0.0055 - mse: 5.8887e-05 - val_loss: 0.0063 - val_mse: 7.5618e-05\n",
      "Epoch 184/300\n",
      "42/42 [==============================] - 0s 1ms/step - loss: 0.0059 - mse: 7.3379e-05 - val_loss: 0.0058 - val_mse: 1.3934e-04\n",
      "Epoch 185/300\n",
      "42/42 [==============================] - 0s 1ms/step - loss: 0.0068 - mse: 9.1260e-05 - val_loss: 0.0075 - val_mse: 2.0659e-04\n",
      "Epoch 186/300\n",
      "42/42 [==============================] - 0s 1ms/step - loss: 0.0065 - mse: 9.0080e-05 - val_loss: 0.0047 - val_mse: 6.5638e-05\n",
      "Epoch 187/300\n",
      "42/42 [==============================] - 0s 1ms/step - loss: 0.0058 - mse: 6.1882e-05 - val_loss: 0.0062 - val_mse: 7.2243e-05\n",
      "Epoch 188/300\n",
      "42/42 [==============================] - 0s 1ms/step - loss: 0.0049 - mse: 4.7554e-05 - val_loss: 0.0059 - val_mse: 1.1862e-04\n",
      "Epoch 189/300\n",
      "42/42 [==============================] - 0s 1ms/step - loss: 0.0061 - mse: 8.3313e-05 - val_loss: 0.0068 - val_mse: 1.3685e-04\n",
      "Epoch 190/300\n",
      "42/42 [==============================] - 0s 1ms/step - loss: 0.0075 - mse: 1.0537e-04 - val_loss: 0.0051 - val_mse: 7.0838e-05\n",
      "Epoch 191/300\n",
      "42/42 [==============================] - 0s 1ms/step - loss: 0.0055 - mse: 5.7702e-05 - val_loss: 0.0078 - val_mse: 1.7585e-04\n",
      "Epoch 192/300\n",
      "42/42 [==============================] - 0s 1ms/step - loss: 0.0056 - mse: 6.4796e-05 - val_loss: 0.0060 - val_mse: 8.8326e-05\n",
      "Epoch 193/300\n",
      "42/42 [==============================] - 0s 1ms/step - loss: 0.0049 - mse: 4.7219e-05 - val_loss: 0.0062 - val_mse: 1.5796e-04\n",
      "Epoch 194/300\n",
      "42/42 [==============================] - 0s 1ms/step - loss: 0.0052 - mse: 5.1677e-05 - val_loss: 0.0067 - val_mse: 1.3277e-04\n",
      "Epoch 195/300\n",
      "42/42 [==============================] - 0s 1ms/step - loss: 0.0059 - mse: 6.9632e-05 - val_loss: 0.0079 - val_mse: 1.5329e-04\n",
      "Epoch 196/300\n",
      "42/42 [==============================] - 0s 1ms/step - loss: 0.0071 - mse: 9.0809e-05 - val_loss: 0.0057 - val_mse: 7.1136e-05\n",
      "Epoch 197/300\n",
      "42/42 [==============================] - 0s 1ms/step - loss: 0.0051 - mse: 5.8524e-05 - val_loss: 0.0059 - val_mse: 1.4199e-04\n",
      "Epoch 198/300\n",
      "42/42 [==============================] - 0s 1ms/step - loss: 0.0059 - mse: 6.9521e-05 - val_loss: 0.0061 - val_mse: 7.4527e-05\n",
      "Epoch 199/300\n",
      "42/42 [==============================] - 0s 1ms/step - loss: 0.0058 - mse: 7.2456e-05 - val_loss: 0.0052 - val_mse: 1.5655e-04\n",
      "Epoch 200/300\n",
      "42/42 [==============================] - 0s 1ms/step - loss: 0.0047 - mse: 4.3549e-05 - val_loss: 0.0047 - val_mse: 5.5717e-05\n",
      "Epoch 201/300\n",
      "42/42 [==============================] - 0s 1ms/step - loss: 0.0047 - mse: 4.4822e-05 - val_loss: 0.0042 - val_mse: 7.8345e-05\n",
      "Epoch 202/300\n",
      "42/42 [==============================] - 0s 1ms/step - loss: 0.0048 - mse: 4.8816e-05 - val_loss: 0.0046 - val_mse: 9.4846e-05\n",
      "Epoch 203/300\n",
      "42/42 [==============================] - 0s 1ms/step - loss: 0.0070 - mse: 1.0794e-04 - val_loss: 0.0058 - val_mse: 1.6083e-04\n",
      "Epoch 204/300\n",
      "42/42 [==============================] - 0s 1ms/step - loss: 0.0067 - mse: 8.6473e-05 - val_loss: 0.0052 - val_mse: 9.5970e-05\n",
      "Epoch 205/300\n",
      "42/42 [==============================] - 0s 1ms/step - loss: 0.0054 - mse: 6.1393e-05 - val_loss: 0.0037 - val_mse: 5.3126e-05\n",
      "Epoch 206/300\n",
      "42/42 [==============================] - 0s 1ms/step - loss: 0.0051 - mse: 5.2160e-05 - val_loss: 0.0075 - val_mse: 1.1487e-04\n",
      "Epoch 207/300\n",
      "42/42 [==============================] - 0s 1ms/step - loss: 0.0056 - mse: 6.2329e-05 - val_loss: 0.0045 - val_mse: 8.6454e-05\n",
      "Epoch 208/300\n",
      "42/42 [==============================] - 0s 2ms/step - loss: 0.0056 - mse: 7.1358e-05 - val_loss: 0.0079 - val_mse: 2.2958e-04\n",
      "Epoch 209/300\n",
      "42/42 [==============================] - 0s 1ms/step - loss: 0.0061 - mse: 7.1106e-05 - val_loss: 0.0057 - val_mse: 9.5187e-05\n",
      "Epoch 210/300\n",
      "42/42 [==============================] - 0s 1ms/step - loss: 0.0046 - mse: 3.5775e-05 - val_loss: 0.0039 - val_mse: 5.2507e-05\n",
      "Epoch 211/300\n",
      "42/42 [==============================] - 0s 1ms/step - loss: 0.0052 - mse: 5.4912e-05 - val_loss: 0.0052 - val_mse: 8.2427e-05\n",
      "Epoch 212/300\n",
      "42/42 [==============================] - 0s 1ms/step - loss: 0.0063 - mse: 7.3008e-05 - val_loss: 0.0069 - val_mse: 1.4625e-04\n",
      "Epoch 213/300\n",
      "42/42 [==============================] - 0s 1ms/step - loss: 0.0058 - mse: 7.0521e-05 - val_loss: 0.0060 - val_mse: 1.0048e-04\n",
      "Epoch 214/300\n",
      "42/42 [==============================] - 0s 1ms/step - loss: 0.0047 - mse: 4.2954e-05 - val_loss: 0.0073 - val_mse: 1.1561e-04\n",
      "Epoch 215/300\n",
      "42/42 [==============================] - 0s 1ms/step - loss: 0.0056 - mse: 6.2314e-05 - val_loss: 0.0058 - val_mse: 1.0344e-04\n",
      "Epoch 216/300\n",
      "42/42 [==============================] - 0s 1ms/step - loss: 0.0049 - mse: 4.5261e-05 - val_loss: 0.0069 - val_mse: 1.4167e-04\n",
      "Epoch 217/300\n",
      "42/42 [==============================] - 0s 1ms/step - loss: 0.0049 - mse: 4.4381e-05 - val_loss: 0.0078 - val_mse: 1.3661e-04\n",
      "Epoch 218/300\n",
      "42/42 [==============================] - 0s 1ms/step - loss: 0.0069 - mse: 9.3258e-05 - val_loss: 0.0069 - val_mse: 1.1803e-04\n",
      "Epoch 219/300\n",
      "42/42 [==============================] - 0s 1ms/step - loss: 0.0060 - mse: 6.7221e-05 - val_loss: 0.0051 - val_mse: 9.8572e-05\n",
      "Epoch 220/300\n",
      "42/42 [==============================] - 0s 1ms/step - loss: 0.0048 - mse: 4.8778e-05 - val_loss: 0.0054 - val_mse: 1.0263e-04\n",
      "Epoch 221/300\n",
      "42/42 [==============================] - 0s 1ms/step - loss: 0.0052 - mse: 5.3534e-05 - val_loss: 0.0048 - val_mse: 9.5925e-05\n",
      "Epoch 222/300\n",
      "42/42 [==============================] - 0s 1ms/step - loss: 0.0062 - mse: 6.7529e-05 - val_loss: 0.0065 - val_mse: 1.1518e-04\n",
      "Epoch 223/300\n",
      "42/42 [==============================] - 0s 1ms/step - loss: 0.0076 - mse: 1.1581e-04 - val_loss: 0.0062 - val_mse: 9.1742e-05\n",
      "Epoch 224/300\n",
      "42/42 [==============================] - 0s 1ms/step - loss: 0.0057 - mse: 6.0290e-05 - val_loss: 0.0052 - val_mse: 8.1851e-05\n",
      "Epoch 225/300\n",
      "42/42 [==============================] - 0s 1ms/step - loss: 0.0049 - mse: 5.2247e-05 - val_loss: 0.0045 - val_mse: 8.3312e-05\n",
      "Epoch 226/300\n",
      "42/42 [==============================] - 0s 1ms/step - loss: 0.0056 - mse: 6.6073e-05 - val_loss: 0.0062 - val_mse: 1.0039e-04\n",
      "Epoch 227/300\n",
      "42/42 [==============================] - 0s 1ms/step - loss: 0.0050 - mse: 4.6409e-05 - val_loss: 0.0067 - val_mse: 1.5190e-04\n",
      "Epoch 228/300\n",
      "42/42 [==============================] - 0s 1ms/step - loss: 0.0060 - mse: 7.0581e-05 - val_loss: 0.0090 - val_mse: 2.0530e-04\n",
      "Epoch 229/300\n",
      "42/42 [==============================] - 0s 1ms/step - loss: 0.0070 - mse: 9.1087e-05 - val_loss: 0.0052 - val_mse: 1.2105e-04\n",
      "Epoch 230/300\n",
      "42/42 [==============================] - 0s 1ms/step - loss: 0.0050 - mse: 4.5316e-05 - val_loss: 0.0057 - val_mse: 7.6297e-05\n",
      "Epoch 231/300\n",
      "42/42 [==============================] - 0s 1ms/step - loss: 0.0055 - mse: 5.1771e-05 - val_loss: 0.0071 - val_mse: 1.3378e-04\n",
      "Epoch 232/300\n",
      "42/42 [==============================] - 0s 1ms/step - loss: 0.0059 - mse: 7.0156e-05 - val_loss: 0.0047 - val_mse: 1.2579e-04\n",
      "Epoch 233/300\n",
      "42/42 [==============================] - 0s 1ms/step - loss: 0.0046 - mse: 4.3290e-05 - val_loss: 0.0070 - val_mse: 1.1702e-04\n",
      "Epoch 234/300\n"
     ]
    },
    {
     "name": "stdout",
     "output_type": "stream",
     "text": [
      "42/42 [==============================] - 0s 1ms/step - loss: 0.0059 - mse: 7.3415e-05 - val_loss: 0.0057 - val_mse: 1.2236e-04\n",
      "Epoch 235/300\n",
      "42/42 [==============================] - 0s 1ms/step - loss: 0.0066 - mse: 8.6901e-05 - val_loss: 0.0046 - val_mse: 1.0557e-04\n",
      "Epoch 236/300\n",
      "42/42 [==============================] - 0s 1ms/step - loss: 0.0047 - mse: 4.1018e-05 - val_loss: 0.0042 - val_mse: 7.6049e-05\n",
      "Epoch 237/300\n",
      "42/42 [==============================] - 0s 1ms/step - loss: 0.0051 - mse: 4.9177e-05 - val_loss: 0.0064 - val_mse: 1.4833e-04\n",
      "Epoch 238/300\n",
      "42/42 [==============================] - 0s 1ms/step - loss: 0.0053 - mse: 5.7200e-05 - val_loss: 0.0067 - val_mse: 2.1210e-04\n",
      "Epoch 239/300\n",
      "42/42 [==============================] - 0s 1ms/step - loss: 0.0064 - mse: 8.0688e-05 - val_loss: 0.0067 - val_mse: 1.3086e-04\n",
      "Epoch 240/300\n",
      "42/42 [==============================] - 0s 1ms/step - loss: 0.0057 - mse: 6.1370e-05 - val_loss: 0.0051 - val_mse: 9.5057e-05\n",
      "Epoch 241/300\n",
      "42/42 [==============================] - 0s 1ms/step - loss: 0.0068 - mse: 8.2176e-05 - val_loss: 0.0077 - val_mse: 1.6205e-04\n",
      "Epoch 242/300\n",
      "42/42 [==============================] - 0s 1ms/step - loss: 0.0051 - mse: 5.2551e-05 - val_loss: 0.0051 - val_mse: 6.8989e-05\n",
      "Epoch 243/300\n",
      "42/42 [==============================] - 0s 1ms/step - loss: 0.0049 - mse: 4.6727e-05 - val_loss: 0.0075 - val_mse: 1.2030e-04\n",
      "Epoch 244/300\n",
      "42/42 [==============================] - 0s 1ms/step - loss: 0.0062 - mse: 8.1997e-05 - val_loss: 0.0085 - val_mse: 1.3121e-04\n",
      "Epoch 245/300\n",
      "42/42 [==============================] - 0s 1ms/step - loss: 0.0058 - mse: 6.4805e-05 - val_loss: 0.0092 - val_mse: 1.8028e-04\n",
      "Epoch 246/300\n",
      "42/42 [==============================] - 0s 1ms/step - loss: 0.0053 - mse: 5.2186e-05 - val_loss: 0.0064 - val_mse: 1.7425e-04\n",
      "Epoch 247/300\n",
      "42/42 [==============================] - 0s 1ms/step - loss: 0.0048 - mse: 4.3518e-05 - val_loss: 0.0054 - val_mse: 1.2773e-04\n",
      "Epoch 248/300\n",
      "42/42 [==============================] - 0s 1ms/step - loss: 0.0061 - mse: 6.6771e-05 - val_loss: 0.0054 - val_mse: 1.5097e-04\n",
      "Epoch 249/300\n",
      "42/42 [==============================] - 0s 1ms/step - loss: 0.0066 - mse: 9.5822e-05 - val_loss: 0.0046 - val_mse: 7.3126e-05\n",
      "Epoch 250/300\n",
      "42/42 [==============================] - 0s 1ms/step - loss: 0.0044 - mse: 4.1224e-05 - val_loss: 0.0062 - val_mse: 1.3743e-04\n",
      "Epoch 251/300\n",
      "42/42 [==============================] - 0s 1ms/step - loss: 0.0048 - mse: 4.6620e-05 - val_loss: 0.0044 - val_mse: 1.0271e-04\n",
      "Epoch 252/300\n",
      "42/42 [==============================] - 0s 1ms/step - loss: 0.0062 - mse: 7.5948e-05 - val_loss: 0.0068 - val_mse: 8.7230e-05\n",
      "Epoch 253/300\n",
      "42/42 [==============================] - 0s 1ms/step - loss: 0.0054 - mse: 5.4778e-05 - val_loss: 0.0044 - val_mse: 6.5804e-05\n",
      "Epoch 254/300\n",
      "42/42 [==============================] - 0s 1ms/step - loss: 0.0055 - mse: 6.3418e-05 - val_loss: 0.0055 - val_mse: 1.0392e-04\n",
      "Epoch 255/300\n",
      "42/42 [==============================] - 0s 1ms/step - loss: 0.0050 - mse: 4.6216e-05 - val_loss: 0.0054 - val_mse: 6.0154e-05\n",
      "Epoch 256/300\n",
      "42/42 [==============================] - 0s 1ms/step - loss: 0.0053 - mse: 5.4180e-05 - val_loss: 0.0043 - val_mse: 5.8443e-05\n",
      "Epoch 257/300\n",
      "42/42 [==============================] - 0s 1ms/step - loss: 0.0059 - mse: 7.1766e-05 - val_loss: 0.0078 - val_mse: 1.2650e-04\n",
      "Epoch 258/300\n",
      "42/42 [==============================] - 0s 1ms/step - loss: 0.0062 - mse: 7.9813e-05 - val_loss: 0.0049 - val_mse: 1.2098e-04\n",
      "Epoch 259/300\n",
      "42/42 [==============================] - 0s 1ms/step - loss: 0.0059 - mse: 6.5999e-05 - val_loss: 0.0048 - val_mse: 1.1527e-04\n",
      "Epoch 260/300\n",
      "42/42 [==============================] - 0s 1ms/step - loss: 0.0074 - mse: 8.7428e-05 - val_loss: 0.0072 - val_mse: 1.8533e-04\n",
      "Epoch 261/300\n",
      "42/42 [==============================] - 0s 1ms/step - loss: 0.0079 - mse: 1.2692e-04 - val_loss: 0.0076 - val_mse: 1.0674e-04\n",
      "Epoch 262/300\n",
      "42/42 [==============================] - 0s 1ms/step - loss: 0.0063 - mse: 7.8040e-05 - val_loss: 0.0052 - val_mse: 1.2378e-04\n",
      "Epoch 263/300\n",
      "42/42 [==============================] - 0s 1ms/step - loss: 0.0053 - mse: 5.0862e-05 - val_loss: 0.0069 - val_mse: 1.3954e-04\n",
      "Epoch 264/300\n",
      "42/42 [==============================] - 0s 1ms/step - loss: 0.0067 - mse: 8.8548e-05 - val_loss: 0.0063 - val_mse: 1.0337e-04\n",
      "Epoch 265/300\n",
      "42/42 [==============================] - 0s 1ms/step - loss: 0.0062 - mse: 7.5242e-05 - val_loss: 0.0057 - val_mse: 1.8311e-04\n",
      "Epoch 266/300\n",
      "42/42 [==============================] - 0s 1ms/step - loss: 0.0053 - mse: 5.4029e-05 - val_loss: 0.0049 - val_mse: 5.9990e-05\n",
      "Epoch 267/300\n",
      "42/42 [==============================] - 0s 1ms/step - loss: 0.0060 - mse: 7.1162e-05 - val_loss: 0.0046 - val_mse: 9.5780e-05\n",
      "Epoch 268/300\n",
      "42/42 [==============================] - 0s 1ms/step - loss: 0.0069 - mse: 7.8567e-05 - val_loss: 0.0075 - val_mse: 2.4731e-04\n",
      "Epoch 269/300\n",
      "42/42 [==============================] - 0s 1ms/step - loss: 0.0064 - mse: 8.2296e-05 - val_loss: 0.0087 - val_mse: 1.5353e-04\n",
      "Epoch 270/300\n",
      "42/42 [==============================] - 0s 1ms/step - loss: 0.0068 - mse: 1.0643e-04 - val_loss: 0.0069 - val_mse: 1.2236e-04\n",
      "Epoch 271/300\n",
      "42/42 [==============================] - 0s 1ms/step - loss: 0.0050 - mse: 4.7793e-05 - val_loss: 0.0048 - val_mse: 1.2510e-04\n",
      "Epoch 272/300\n",
      "42/42 [==============================] - 0s 1ms/step - loss: 0.0047 - mse: 4.1083e-05 - val_loss: 0.0063 - val_mse: 1.4366e-04\n",
      "Epoch 273/300\n",
      "42/42 [==============================] - 0s 1ms/step - loss: 0.0050 - mse: 4.6742e-05 - val_loss: 0.0049 - val_mse: 1.6983e-04\n",
      "Epoch 274/300\n",
      "42/42 [==============================] - 0s 1ms/step - loss: 0.0058 - mse: 6.0277e-05 - val_loss: 0.0073 - val_mse: 1.5486e-04\n",
      "Epoch 275/300\n",
      "42/42 [==============================] - 0s 2ms/step - loss: 0.0056 - mse: 6.4204e-05 - val_loss: 0.0080 - val_mse: 3.2585e-04\n",
      "Epoch 276/300\n",
      "42/42 [==============================] - 0s 1ms/step - loss: 0.0071 - mse: 1.0421e-04 - val_loss: 0.0054 - val_mse: 1.3319e-04\n",
      "Epoch 277/300\n",
      "42/42 [==============================] - 0s 1ms/step - loss: 0.0046 - mse: 4.1245e-05 - val_loss: 0.0057 - val_mse: 9.8379e-05\n",
      "Epoch 278/300\n",
      "42/42 [==============================] - 0s 1ms/step - loss: 0.0054 - mse: 5.6719e-05 - val_loss: 0.0064 - val_mse: 1.4399e-04\n",
      "Epoch 279/300\n",
      "42/42 [==============================] - 0s 1ms/step - loss: 0.0071 - mse: 8.8348e-05 - val_loss: 0.0067 - val_mse: 1.2456e-04\n",
      "Epoch 280/300\n",
      "42/42 [==============================] - 0s 1ms/step - loss: 0.0065 - mse: 8.4842e-05 - val_loss: 0.0060 - val_mse: 1.5448e-04\n",
      "Epoch 281/300\n",
      "42/42 [==============================] - 0s 1ms/step - loss: 0.0051 - mse: 4.8014e-05 - val_loss: 0.0047 - val_mse: 9.8158e-05\n",
      "Epoch 282/300\n",
      "42/42 [==============================] - 0s 1ms/step - loss: 0.0063 - mse: 7.0804e-05 - val_loss: 0.0064 - val_mse: 1.3491e-04\n",
      "Epoch 283/300\n",
      "42/42 [==============================] - 0s 1ms/step - loss: 0.0063 - mse: 7.7454e-05 - val_loss: 0.0051 - val_mse: 5.3983e-05\n",
      "Epoch 284/300\n",
      "42/42 [==============================] - 0s 1ms/step - loss: 0.0052 - mse: 4.9816e-05 - val_loss: 0.0096 - val_mse: 1.6865e-04\n",
      "Epoch 285/300\n",
      "42/42 [==============================] - 0s 1ms/step - loss: 0.0066 - mse: 8.5170e-05 - val_loss: 0.0060 - val_mse: 8.4507e-05\n",
      "Epoch 286/300\n",
      "42/42 [==============================] - 0s 1ms/step - loss: 0.0059 - mse: 6.3074e-05 - val_loss: 0.0066 - val_mse: 1.1274e-04\n",
      "Epoch 287/300\n",
      "42/42 [==============================] - 0s 1ms/step - loss: 0.0064 - mse: 7.5881e-05 - val_loss: 0.0056 - val_mse: 1.1819e-04\n",
      "Epoch 288/300\n",
      "42/42 [==============================] - 0s 1ms/step - loss: 0.0051 - mse: 4.8760e-05 - val_loss: 0.0050 - val_mse: 8.6427e-05\n",
      "Epoch 289/300\n",
      "42/42 [==============================] - 0s 1ms/step - loss: 0.0071 - mse: 8.5625e-05 - val_loss: 0.0071 - val_mse: 1.2134e-04\n",
      "Epoch 290/300\n",
      "42/42 [==============================] - 0s 1ms/step - loss: 0.0067 - mse: 8.8004e-05 - val_loss: 0.0077 - val_mse: 1.1360e-04\n",
      "Epoch 291/300\n",
      "42/42 [==============================] - 0s 1ms/step - loss: 0.0061 - mse: 7.4987e-05 - val_loss: 0.0064 - val_mse: 2.5261e-04\n",
      "Epoch 292/300\n"
     ]
    },
    {
     "name": "stdout",
     "output_type": "stream",
     "text": [
      "42/42 [==============================] - 0s 1ms/step - loss: 0.0057 - mse: 6.6741e-05 - val_loss: 0.0113 - val_mse: 2.2855e-04\n",
      "Epoch 293/300\n",
      "42/42 [==============================] - 0s 1ms/step - loss: 0.0093 - mse: 1.6509e-04 - val_loss: 0.0056 - val_mse: 1.0089e-04\n",
      "Epoch 294/300\n",
      "42/42 [==============================] - 0s 1ms/step - loss: 0.0052 - mse: 4.9412e-05 - val_loss: 0.0054 - val_mse: 6.5134e-05\n",
      "Epoch 295/300\n",
      "42/42 [==============================] - 0s 1ms/step - loss: 0.0050 - mse: 5.0847e-05 - val_loss: 0.0082 - val_mse: 1.7439e-04\n",
      "Epoch 296/300\n",
      "42/42 [==============================] - 0s 1ms/step - loss: 0.0050 - mse: 4.6717e-05 - val_loss: 0.0052 - val_mse: 8.8916e-05\n",
      "Epoch 297/300\n",
      "42/42 [==============================] - 0s 1ms/step - loss: 0.0050 - mse: 4.7274e-05 - val_loss: 0.0060 - val_mse: 1.0869e-04\n",
      "Epoch 298/300\n",
      "42/42 [==============================] - 0s 1ms/step - loss: 0.0065 - mse: 8.1333e-05 - val_loss: 0.0073 - val_mse: 1.6940e-04\n",
      "Epoch 299/300\n",
      "42/42 [==============================] - 0s 1ms/step - loss: 0.0062 - mse: 7.4596e-05 - val_loss: 0.0044 - val_mse: 6.9456e-05\n",
      "Epoch 300/300\n",
      "42/42 [==============================] - 0s 2ms/step - loss: 0.0054 - mse: 5.4123e-05 - val_loss: 0.0044 - val_mse: 4.4640e-05\n"
     ]
    }
   ],
   "source": [
    "history=model.fit(\n",
    "    X_train,\n",
    "    y_train,\n",
    "    shuffle=True,\n",
    "    batch_size=16,\n",
    "    epochs=300,\n",
    "    verbose=True,\n",
    "    validation_data=(X_test,y_test)\n",
    ")"
   ]
  },
  {
   "cell_type": "markdown",
   "id": "waiting-union",
   "metadata": {},
   "source": [
    "We plot the loss function to diagnostic the model and the dataset, from the plot we can identify\n",
    "\n",
    "- A separation between the test and train loss function might indicate overfitting\n",
    "- A large gap between the curves might indicate an unrepresentative train dataset\n"
   ]
  },
  {
   "cell_type": "code",
   "execution_count": 20,
   "id": "exact-packaging",
   "metadata": {},
   "outputs": [
    {
     "data": {
      "image/png": "[encoded data removed]",
      "text/plain": [
       "<Figure size 864x432 with 1 Axes>"
      ]
     },
     "metadata": {
      "needs_background": "light"
     },
     "output_type": "display_data"
    }
   ],
   "source": [
    "plot_loss(history)"
   ]
  },
  {
   "cell_type": "markdown",
   "id": "mighty-apartment",
   "metadata": {
    "code_folding": []
   },
   "source": [
    "Next we predict and compare our predictions with the observed occurrences. Now this model is very accurate and for every combination of predictor features we will have the exact same outcome."
   ]
  },
  {
   "cell_type": "code",
   "execution_count": 21,
   "id": "wound-philadelphia",
   "metadata": {
    "scrolled": false
   },
   "outputs": [
    {
     "data": {
      "image/png": "[encoded data removed]",
      "text/plain": [
       "<Figure size 864x432 with 1 Axes>"
      ]
     },
     "metadata": {
      "needs_background": "light"
     },
     "output_type": "display_data"
    }
   ],
   "source": [
    "y_test_pred = model.predict(X_test)\n",
    "plt.figure(figsize=(12,6))\n",
    "plt.plot(X_test[:,0],y_test,'o',label='Test')\n",
    "plt.plot(X_test[:,0],y_test_pred,'o',label='Predicted test')\n",
    "plt.xlabel('Porosity')\n",
    "plt.ylabel('Production')\n",
    "plt.legend()\n",
    "plt.grid(True)"
   ]
  },
  {
   "cell_type": "markdown",
   "id": "accurate-jacket",
   "metadata": {},
   "source": [
    "The next thing we do is we test the goodness of the model. Lets evaluate the model 10 times to estimate the Goodness, Precision and Acurracy of the model. \n",
    "\n",
    "We could only do this once, because of the deterministic nature of the model, all 10 evaluations we will give the same result"
   ]
  },
  {
   "cell_type": "code",
   "execution_count": 22,
   "id": "reflected-bhutan",
   "metadata": {
    "scrolled": true
   },
   "outputs": [
    {
     "name": "stdout",
     "output_type": "stream",
     "text": [
      "42/42 [==============================] - 0s 559us/step\n",
      "42/42 [==============================] - 0s 512us/step\n",
      "42/42 [==============================] - 0s 487us/step\n",
      "42/42 [==============================] - 0s 534us/step\n",
      "42/42 [==============================] - 0s 511us/step\n",
      "42/42 [==============================] - 0s 511us/step\n",
      "42/42 [==============================] - 0s 535us/step\n",
      "42/42 [==============================] - 0s 536us/step\n",
      "42/42 [==============================] - 0s 632us/step\n",
      "42/42 [==============================] - 0s 585us/step\n"
     ]
    }
   ],
   "source": [
    "mc_predictions = evaluate_cases(model, X_test, 8, y_test,10)\n",
    "df = get_dataframe(mc_predictions, y_test, X_test)"
   ]
  },
  {
   "cell_type": "markdown",
   "id": "handed-bicycle",
   "metadata": {},
   "source": [
    "How does the cross plot for predicted versus true value look like?\n",
    "\n",
    "What about the Pearson's product moment correlation coefficient?"
   ]
  },
  {
   "cell_type": "code",
   "execution_count": 23,
   "id": "yellow-reporter",
   "metadata": {},
   "outputs": [
    {
     "data": {
      "image/png": "[encoded data removed]",
      "text/plain": [
       "<Figure size 720x432 with 1 Axes>"
      ]
     },
     "metadata": {
      "needs_background": "light"
     },
     "output_type": "display_data"
    }
   ],
   "source": [
    "r= stats.pearsonr(df.Pred,df.Truth)\n",
    "error_line(df.Pred,df.Truth,df.Sigma,r[0])"
   ]
  },
  {
   "cell_type": "markdown",
   "id": "guided-coach",
   "metadata": {},
   "source": [
    "What is the Goodness, Precision and Accuracy of the model?"
   ]
  },
  {
   "cell_type": "code",
   "execution_count": 24,
   "id": "automotive-means",
   "metadata": {},
   "outputs": [
    {
     "name": "stderr",
     "output_type": "stream",
     "text": [
      "C:\\Users\\em42363\\Anaconda3\\envs\\new\\lib\\site-packages\\scipy\\stats\\_distn_infrastructure.py:1987: RuntimeWarning: divide by zero encountered in double_scalars\n",
      "  x = np.asarray((x - loc)/scale, dtype=dtyp)\n"
     ]
    }
   ],
   "source": [
    "Sigma = np.sqrt(np.var(mc_predictions.T, axis=1))\n",
    "\n",
    "score = scorer(mc_predictions.T, y_test, Sigma)\n",
    "\n",
    "IF_array = score.IndicatorFunction()\n",
    "n_quantiles = 11\n",
    "perc = np.linspace(0.0, 1.00, n_quantiles)\n"
   ]
  },
  {
   "cell_type": "markdown",
   "id": "intelligent-prayer",
   "metadata": {},
   "source": [
    "Very precise! But inaccurate"
   ]
  },
  {
   "cell_type": "code",
   "execution_count": 25,
   "id": "angry-agency",
   "metadata": {},
   "outputs": [
    {
     "name": "stdout",
     "output_type": "stream",
     "text": [
      "Accuracy = 0.03\n",
      "Precision = 1.00\n",
      "Goodness = -0.02\n"
     ]
    }
   ],
   "source": [
    "print('Accuracy = {0:2.2f}'.format(score.Accuracy()))\n",
    "print('Precision = {0:2.2f}'.format(score.Precision()))\n",
    "print('Goodness = {0:2.2f}'.format(score.Goodness()))"
   ]
  },
  {
   "cell_type": "markdown",
   "id": "adjustable-pavilion",
   "metadata": {},
   "source": [
    "The precision is 1 and the goodness is 0!! The model is inaccurate and precise\n",
    "\n",
    "How does the histogram of predictions for a random case look like? All 10 occurrences have the same result"
   ]
  },
  {
   "cell_type": "code",
   "execution_count": 26,
   "id": "fitting-dispatch",
   "metadata": {},
   "outputs": [
    {
     "data": {
      "image/png": "[encoded data removed]",
      "text/plain": [
       "<Figure size 720x432 with 1 Axes>"
      ]
     },
     "metadata": {
      "needs_background": "light"
     },
     "output_type": "display_data"
    }
   ],
   "source": [
    "histogram(mc_predictions)"
   ]
  },
  {
   "cell_type": "markdown",
   "id": "legitimate-holder",
   "metadata": {},
   "source": [
    "We can use the accuracy plot to diagnose our model. You can find more details on the use of the accuracy plots in the provided article."
   ]
  },
  {
   "cell_type": "markdown",
   "id": "exempt-rachel",
   "metadata": {},
   "source": [
    "How does the accuracy plot look like for a deterministic model?"
   ]
  },
  {
   "cell_type": "code",
   "execution_count": 27,
   "id": "gentle-lloyd",
   "metadata": {},
   "outputs": [
    {
     "data": {
      "image/png": "[encoded data removed]",
      "text/plain": [
       "<Figure size 864x288 with 2 Axes>"
      ]
     },
     "metadata": {
      "needs_background": "light"
     },
     "output_type": "display_data"
    }
   ],
   "source": [
    "error_accuracy_plot(perc, IF_array, mc_predictions.T, y_test, Sigma)"
   ]
  },
  {
   "cell_type": "markdown",
   "id": "manual-corps",
   "metadata": {},
   "source": [
    "Our model is **inaccurate and imprecise.**"
   ]
  },
  {
   "cell_type": "markdown",
   "id": "charming-ending",
   "metadata": {},
   "source": [
    "## Neural network model, probabilistic"
   ]
  },
  {
   "cell_type": "markdown",
   "id": "similar-solution",
   "metadata": {},
   "source": [
    "For this second model we use **dropout** to introduce randomness into our model"
   ]
  },
  {
   "cell_type": "markdown",
   "id": "american-smile",
   "metadata": {},
   "source": [
    "### Neural network model"
   ]
  },
  {
   "cell_type": "markdown",
   "id": "informed-adelaide",
   "metadata": {},
   "source": [
    "Similarly as before, we define the model and include dropout layers in our deep learning model."
   ]
  },
  {
   "cell_type": "code",
   "execution_count": 28,
   "id": "confirmed-adrian",
   "metadata": {},
   "outputs": [],
   "source": [
    "def PermaDropout(rate):\n",
    "    return Lambda(lambda x: K.dropout(x, level=rate)) # Fraction of the input units to drop\n",
    "\n",
    "class create_model(keras.Model):\n",
    "    def __init__(self,dropout, **kwargs):\n",
    "        super().__init__(**kwargs)\n",
    "        self.input_layer = keras.layers.Flatten(input_shape=[x.shape[1]])\n",
    "        self.hidden1 = keras.layers.Dense(32, activation='relu')\n",
    "        self.hidden2 = keras.layers.Dense(32, activation='relu')\n",
    "        self.hidden3 = keras.layers.Dense(32, activation='relu')\n",
    "        self.output_layer = keras.layers.Dense(1)\n",
    "        self.dropout_layer = PermaDropout(rate=dropout)\n",
    "\n",
    "    def call(self, input, training=True):\n",
    "        input_layer = self.input_layer(input)\n",
    "        input_layer = self.dropout_layer(input_layer)\n",
    "        hidden1 = self.hidden1(input_layer)\n",
    "        hidden1 = self.dropout_layer(hidden1, training=training)\n",
    "        hidden2 = self.hidden2(hidden1)\n",
    "        hidden2 = self.dropout_layer(hidden2, training=training)\n",
    "        #hidden3 = self.hidden3(hidden2)\n",
    "        #hidden3 = self.dropout_layer(hidden3, training=training)\n",
    "        output_layer = self.output_layer(hidden2)\n",
    "        return output_layer"
   ]
  },
  {
   "cell_type": "markdown",
   "id": "ideal-anchor",
   "metadata": {},
   "source": [
    "### Training"
   ]
  },
  {
   "cell_type": "markdown",
   "id": "underlying-protection",
   "metadata": {},
   "source": [
    "We instantiate the model and define a dropout value that was previously optimized using the uncertainty model goodness metric"
   ]
  },
  {
   "cell_type": "code",
   "execution_count": 29,
   "id": "virgin-taylor",
   "metadata": {},
   "outputs": [],
   "source": [
    "#model = create_model(0.0525)\n",
    "model = create_model(0.06)\n",
    "opt = keras.optimizers.Adam(learning_rate=0.016)\n",
    "\n",
    "model.compile(loss='mae',\n",
    "              optimizer=opt,\n",
    "              metrics='mse')"
   ]
  },
  {
   "cell_type": "code",
   "execution_count": 30,
   "id": "constant-genome",
   "metadata": {
    "scrolled": true
   },
   "outputs": [
    {
     "name": "stdout",
     "output_type": "stream",
     "text": [
      "Epoch 1/100\n",
      "42/42 [==============================] - 1s 3ms/step - loss: 0.0813 - mse: 0.0138 - val_loss: 0.0475 - val_mse: 0.0058\n",
      "Epoch 2/100\n",
      "42/42 [==============================] - 0s 2ms/step - loss: 0.0385 - mse: 0.0033 - val_loss: 0.0410 - val_mse: 0.0047\n",
      "Epoch 3/100\n",
      "42/42 [==============================] - 0s 2ms/step - loss: 0.0331 - mse: 0.0026 - val_loss: 0.0254 - val_mse: 0.0019\n",
      "Epoch 4/100\n",
      "42/42 [==============================] - 0s 1ms/step - loss: 0.0273 - mse: 0.0019 - val_loss: 0.0276 - val_mse: 0.0024\n",
      "Epoch 5/100\n",
      "42/42 [==============================] - 0s 1ms/step - loss: 0.0274 - mse: 0.0018 - val_loss: 0.0298 - val_mse: 0.0028\n",
      "Epoch 6/100\n",
      "42/42 [==============================] - 0s 1ms/step - loss: 0.0300 - mse: 0.0029 - val_loss: 0.0279 - val_mse: 0.0025\n",
      "Epoch 7/100\n",
      "42/42 [==============================] - 0s 1ms/step - loss: 0.0276 - mse: 0.0024 - val_loss: 0.0284 - val_mse: 0.0022\n",
      "Epoch 8/100\n",
      "42/42 [==============================] - 0s 1ms/step - loss: 0.0302 - mse: 0.0020 - val_loss: 0.0306 - val_mse: 0.0019\n",
      "Epoch 9/100\n",
      "42/42 [==============================] - 0s 1ms/step - loss: 0.0322 - mse: 0.0025 - val_loss: 0.0351 - val_mse: 0.0024\n",
      "Epoch 10/100\n",
      "42/42 [==============================] - 0s 1ms/step - loss: 0.0369 - mse: 0.0030 - val_loss: 0.0431 - val_mse: 0.0033\n",
      "Epoch 11/100\n",
      "42/42 [==============================] - 0s 1ms/step - loss: 0.0352 - mse: 0.0028 - val_loss: 0.0291 - val_mse: 0.0025\n",
      "Epoch 12/100\n",
      "42/42 [==============================] - 0s 1ms/step - loss: 0.0293 - mse: 0.0021 - val_loss: 0.0367 - val_mse: 0.0031\n",
      "Epoch 13/100\n",
      "42/42 [==============================] - 0s 1ms/step - loss: 0.0268 - mse: 0.0017 - val_loss: 0.0285 - val_mse: 0.0023\n",
      "Epoch 14/100\n",
      "42/42 [==============================] - 0s 1ms/step - loss: 0.0283 - mse: 0.0023 - val_loss: 0.0224 - val_mse: 0.0020\n",
      "Epoch 15/100\n",
      "42/42 [==============================] - 0s 1ms/step - loss: 0.0273 - mse: 0.0019 - val_loss: 0.0237 - val_mse: 0.0015\n",
      "Epoch 16/100\n",
      "42/42 [==============================] - 0s 1ms/step - loss: 0.0270 - mse: 0.0019 - val_loss: 0.0230 - val_mse: 0.0019\n",
      "Epoch 17/100\n",
      "42/42 [==============================] - 0s 1ms/step - loss: 0.0280 - mse: 0.0023 - val_loss: 0.0302 - val_mse: 0.0027\n",
      "Epoch 18/100\n",
      "42/42 [==============================] - 0s 2ms/step - loss: 0.0270 - mse: 0.0019 - val_loss: 0.0313 - val_mse: 0.0028\n",
      "Epoch 19/100\n",
      "42/42 [==============================] - 0s 1ms/step - loss: 0.0295 - mse: 0.0023 - val_loss: 0.0279 - val_mse: 0.0026\n",
      "Epoch 20/100\n",
      "42/42 [==============================] - 0s 1ms/step - loss: 0.0269 - mse: 0.0017 - val_loss: 0.0275 - val_mse: 0.0023\n",
      "Epoch 21/100\n",
      "42/42 [==============================] - 0s 1ms/step - loss: 0.0284 - mse: 0.0024 - val_loss: 0.0259 - val_mse: 0.0019\n",
      "Epoch 22/100\n",
      "42/42 [==============================] - 0s 1ms/step - loss: 0.0281 - mse: 0.0022 - val_loss: 0.0274 - val_mse: 0.0023\n",
      "Epoch 23/100\n",
      "42/42 [==============================] - 0s 1ms/step - loss: 0.0280 - mse: 0.0021 - val_loss: 0.0248 - val_mse: 0.0015\n",
      "Epoch 24/100\n",
      "42/42 [==============================] - 0s 2ms/step - loss: 0.0260 - mse: 0.0017 - val_loss: 0.0299 - val_mse: 0.0022\n",
      "Epoch 25/100\n",
      "42/42 [==============================] - 0s 2ms/step - loss: 0.0296 - mse: 0.0025 - val_loss: 0.0291 - val_mse: 0.0030\n",
      "Epoch 26/100\n",
      "42/42 [==============================] - 0s 1ms/step - loss: 0.0261 - mse: 0.0016 - val_loss: 0.0290 - val_mse: 0.0024\n",
      "Epoch 27/100\n",
      "42/42 [==============================] - 0s 1ms/step - loss: 0.0262 - mse: 0.0021 - val_loss: 0.0257 - val_mse: 0.0023\n",
      "Epoch 28/100\n",
      "42/42 [==============================] - 0s 1ms/step - loss: 0.0270 - mse: 0.0019 - val_loss: 0.0248 - val_mse: 0.0020\n",
      "Epoch 29/100\n",
      "42/42 [==============================] - 0s 1ms/step - loss: 0.0261 - mse: 0.0019 - val_loss: 0.0237 - val_mse: 0.0018\n",
      "Epoch 30/100\n",
      "42/42 [==============================] - 0s 1ms/step - loss: 0.0287 - mse: 0.0021 - val_loss: 0.0333 - val_mse: 0.0035\n",
      "Epoch 31/100\n",
      "42/42 [==============================] - 0s 1ms/step - loss: 0.0296 - mse: 0.0023 - val_loss: 0.0265 - val_mse: 0.0024\n",
      "Epoch 32/100\n",
      "42/42 [==============================] - 0s 1ms/step - loss: 0.0302 - mse: 0.0025 - val_loss: 0.0341 - val_mse: 0.0023\n",
      "Epoch 33/100\n",
      "42/42 [==============================] - 0s 1ms/step - loss: 0.0271 - mse: 0.0016 - val_loss: 0.0312 - val_mse: 0.0035\n",
      "Epoch 34/100\n",
      "42/42 [==============================] - 0s 1ms/step - loss: 0.0265 - mse: 0.0021 - val_loss: 0.0308 - val_mse: 0.0027\n",
      "Epoch 35/100\n",
      "42/42 [==============================] - 0s 1ms/step - loss: 0.0311 - mse: 0.0024 - val_loss: 0.0288 - val_mse: 0.0028\n",
      "Epoch 36/100\n",
      "42/42 [==============================] - 0s 1ms/step - loss: 0.0295 - mse: 0.0027 - val_loss: 0.0279 - val_mse: 0.0018\n",
      "Epoch 37/100\n",
      "42/42 [==============================] - 0s 1ms/step - loss: 0.0285 - mse: 0.0020 - val_loss: 0.0219 - val_mse: 0.0019\n",
      "Epoch 38/100\n",
      "42/42 [==============================] - 0s 1ms/step - loss: 0.0274 - mse: 0.0023 - val_loss: 0.0302 - val_mse: 0.0022\n",
      "Epoch 39/100\n",
      "42/42 [==============================] - 0s 1ms/step - loss: 0.0258 - mse: 0.0016 - val_loss: 0.0295 - val_mse: 0.0021\n",
      "Epoch 40/100\n",
      "42/42 [==============================] - 0s 1ms/step - loss: 0.0269 - mse: 0.0022 - val_loss: 0.0269 - val_mse: 0.0020\n",
      "Epoch 41/100\n",
      "42/42 [==============================] - 0s 1ms/step - loss: 0.0296 - mse: 0.0022 - val_loss: 0.0306 - val_mse: 0.0023\n",
      "Epoch 42/100\n",
      "42/42 [==============================] - 0s 1ms/step - loss: 0.0281 - mse: 0.0023 - val_loss: 0.0306 - val_mse: 0.0031\n",
      "Epoch 43/100\n",
      "42/42 [==============================] - 0s 1ms/step - loss: 0.0278 - mse: 0.0024 - val_loss: 0.0254 - val_mse: 0.0025\n",
      "Epoch 44/100\n",
      "42/42 [==============================] - 0s 2ms/step - loss: 0.0231 - mse: 0.0015 - val_loss: 0.0263 - val_mse: 0.0034\n",
      "Epoch 45/100\n",
      "42/42 [==============================] - 0s 1ms/step - loss: 0.0290 - mse: 0.0024 - val_loss: 0.0283 - val_mse: 0.0031\n",
      "Epoch 46/100\n",
      "42/42 [==============================] - 0s 1ms/step - loss: 0.0277 - mse: 0.0018 - val_loss: 0.0251 - val_mse: 0.0013\n",
      "Epoch 47/100\n",
      "42/42 [==============================] - 0s 1ms/step - loss: 0.0246 - mse: 0.0017 - val_loss: 0.0298 - val_mse: 0.0020\n",
      "Epoch 48/100\n",
      "42/42 [==============================] - 0s 1ms/step - loss: 0.0254 - mse: 0.0021 - val_loss: 0.0258 - val_mse: 0.0018\n",
      "Epoch 49/100\n",
      "42/42 [==============================] - 0s 1ms/step - loss: 0.0285 - mse: 0.0022 - val_loss: 0.0265 - val_mse: 0.0016\n",
      "Epoch 50/100\n",
      "42/42 [==============================] - 0s 2ms/step - loss: 0.0286 - mse: 0.0028 - val_loss: 0.0261 - val_mse: 0.0018\n",
      "Epoch 51/100\n",
      "42/42 [==============================] - 0s 1ms/step - loss: 0.0241 - mse: 0.0017 - val_loss: 0.0260 - val_mse: 0.0019\n",
      "Epoch 52/100\n",
      "42/42 [==============================] - 0s 1ms/step - loss: 0.0242 - mse: 0.0016 - val_loss: 0.0251 - val_mse: 0.0018\n",
      "Epoch 53/100\n",
      "42/42 [==============================] - 0s 1ms/step - loss: 0.0233 - mse: 0.0014 - val_loss: 0.0259 - val_mse: 0.0028\n",
      "Epoch 54/100\n",
      "42/42 [==============================] - 0s 1ms/step - loss: 0.0236 - mse: 0.0014 - val_loss: 0.0262 - val_mse: 0.0025\n",
      "Epoch 55/100\n",
      "42/42 [==============================] - 0s 1ms/step - loss: 0.0256 - mse: 0.0019 - val_loss: 0.0274 - val_mse: 0.0021\n",
      "Epoch 56/100\n",
      "42/42 [==============================] - 0s 1ms/step - loss: 0.0274 - mse: 0.0021 - val_loss: 0.0292 - val_mse: 0.0029\n",
      "Epoch 57/100\n",
      "42/42 [==============================] - 0s 1ms/step - loss: 0.0267 - mse: 0.0020 - val_loss: 0.0211 - val_mse: 0.0017\n",
      "Epoch 58/100\n",
      "42/42 [==============================] - 0s 1ms/step - loss: 0.0260 - mse: 0.0018 - val_loss: 0.0277 - val_mse: 0.0027\n",
      "Epoch 59/100\n",
      "42/42 [==============================] - 0s 2ms/step - loss: 0.0282 - mse: 0.0021 - val_loss: 0.0249 - val_mse: 0.0016\n",
      "Epoch 60/100\n",
      "42/42 [==============================] - 0s 1ms/step - loss: 0.0264 - mse: 0.0016 - val_loss: 0.0241 - val_mse: 0.0015\n",
      "Epoch 61/100\n",
      "42/42 [==============================] - 0s 1ms/step - loss: 0.0276 - mse: 0.0023 - val_loss: 0.0238 - val_mse: 0.0021\n",
      "Epoch 62/100\n",
      "42/42 [==============================] - 0s 1ms/step - loss: 0.0257 - mse: 0.0017 - val_loss: 0.0306 - val_mse: 0.0029\n",
      "Epoch 63/100\n"
     ]
    },
    {
     "name": "stdout",
     "output_type": "stream",
     "text": [
      "42/42 [==============================] - 0s 1ms/step - loss: 0.0248 - mse: 0.0017 - val_loss: 0.0248 - val_mse: 0.0019\n",
      "Epoch 64/100\n",
      "42/42 [==============================] - 0s 1ms/step - loss: 0.0241 - mse: 0.0022 - val_loss: 0.0248 - val_mse: 0.0016\n",
      "Epoch 65/100\n",
      "42/42 [==============================] - 0s 1ms/step - loss: 0.0270 - mse: 0.0021 - val_loss: 0.0287 - val_mse: 0.0025\n",
      "Epoch 66/100\n",
      "42/42 [==============================] - 0s 1ms/step - loss: 0.0248 - mse: 0.0019 - val_loss: 0.0257 - val_mse: 0.0019\n",
      "Epoch 67/100\n",
      "42/42 [==============================] - 0s 1ms/step - loss: 0.0252 - mse: 0.0018 - val_loss: 0.0221 - val_mse: 0.0017\n",
      "Epoch 68/100\n",
      "42/42 [==============================] - 0s 1ms/step - loss: 0.0245 - mse: 0.0018 - val_loss: 0.0251 - val_mse: 0.0018\n",
      "Epoch 69/100\n",
      "42/42 [==============================] - 0s 1ms/step - loss: 0.0307 - mse: 0.0029 - val_loss: 0.0275 - val_mse: 0.0021\n",
      "Epoch 70/100\n",
      "42/42 [==============================] - 0s 1ms/step - loss: 0.0240 - mse: 0.0023 - val_loss: 0.0289 - val_mse: 0.0017\n",
      "Epoch 71/100\n",
      "42/42 [==============================] - 0s 1ms/step - loss: 0.0243 - mse: 0.0015 - val_loss: 0.0236 - val_mse: 0.0015\n",
      "Epoch 72/100\n",
      "42/42 [==============================] - 0s 1ms/step - loss: 0.0280 - mse: 0.0022 - val_loss: 0.0291 - val_mse: 0.0024\n",
      "Epoch 73/100\n",
      "42/42 [==============================] - 0s 1ms/step - loss: 0.0285 - mse: 0.0018 - val_loss: 0.0258 - val_mse: 0.0019\n",
      "Epoch 74/100\n",
      "42/42 [==============================] - 0s 1ms/step - loss: 0.0230 - mse: 0.0017 - val_loss: 0.0235 - val_mse: 0.0018\n",
      "Epoch 75/100\n",
      "42/42 [==============================] - 0s 1ms/step - loss: 0.0248 - mse: 0.0020 - val_loss: 0.0249 - val_mse: 0.0016\n",
      "Epoch 76/100\n",
      "42/42 [==============================] - 0s 1ms/step - loss: 0.0262 - mse: 0.0028 - val_loss: 0.0318 - val_mse: 0.0039\n",
      "Epoch 77/100\n",
      "42/42 [==============================] - 0s 1ms/step - loss: 0.0254 - mse: 0.0018 - val_loss: 0.0221 - val_mse: 0.0017\n",
      "Epoch 78/100\n",
      "42/42 [==============================] - 0s 2ms/step - loss: 0.0241 - mse: 0.0016 - val_loss: 0.0255 - val_mse: 0.0019\n",
      "Epoch 79/100\n",
      "42/42 [==============================] - 0s 1ms/step - loss: 0.0255 - mse: 0.0019 - val_loss: 0.0301 - val_mse: 0.0022\n",
      "Epoch 80/100\n",
      "42/42 [==============================] - 0s 2ms/step - loss: 0.0250 - mse: 0.0019 - val_loss: 0.0299 - val_mse: 0.0029\n",
      "Epoch 81/100\n",
      "42/42 [==============================] - 0s 1ms/step - loss: 0.0261 - mse: 0.0025 - val_loss: 0.0259 - val_mse: 0.0023\n",
      "Epoch 82/100\n",
      "42/42 [==============================] - 0s 2ms/step - loss: 0.0211 - mse: 0.0011 - val_loss: 0.0257 - val_mse: 0.0025\n",
      "Epoch 83/100\n",
      "42/42 [==============================] - 0s 2ms/step - loss: 0.0277 - mse: 0.0022 - val_loss: 0.0295 - val_mse: 0.0025\n",
      "Epoch 84/100\n",
      "42/42 [==============================] - 0s 2ms/step - loss: 0.0272 - mse: 0.0021 - val_loss: 0.0282 - val_mse: 0.0026\n",
      "Epoch 85/100\n",
      "42/42 [==============================] - 0s 2ms/step - loss: 0.0235 - mse: 0.0016 - val_loss: 0.0234 - val_mse: 0.0018\n",
      "Epoch 86/100\n",
      "42/42 [==============================] - 0s 2ms/step - loss: 0.0262 - mse: 0.0019 - val_loss: 0.0262 - val_mse: 0.0027\n",
      "Epoch 87/100\n",
      "42/42 [==============================] - 0s 2ms/step - loss: 0.0249 - mse: 0.0020 - val_loss: 0.0270 - val_mse: 0.0032\n",
      "Epoch 88/100\n",
      "42/42 [==============================] - 0s 2ms/step - loss: 0.0272 - mse: 0.0019 - val_loss: 0.0304 - val_mse: 0.0023\n",
      "Epoch 89/100\n",
      "42/42 [==============================] - 0s 1ms/step - loss: 0.0297 - mse: 0.0024 - val_loss: 0.0321 - val_mse: 0.0032\n",
      "Epoch 90/100\n",
      "42/42 [==============================] - 0s 2ms/step - loss: 0.0236 - mse: 0.0016 - val_loss: 0.0273 - val_mse: 0.0032\n",
      "Epoch 91/100\n",
      "42/42 [==============================] - 0s 2ms/step - loss: 0.0238 - mse: 0.0016 - val_loss: 0.0253 - val_mse: 0.0020\n",
      "Epoch 92/100\n",
      "42/42 [==============================] - 0s 1ms/step - loss: 0.0238 - mse: 0.0017 - val_loss: 0.0283 - val_mse: 0.0038\n",
      "Epoch 93/100\n",
      "42/42 [==============================] - 0s 1ms/step - loss: 0.0250 - mse: 0.0017 - val_loss: 0.0272 - val_mse: 0.0032\n",
      "Epoch 94/100\n",
      "42/42 [==============================] - 0s 1ms/step - loss: 0.0216 - mse: 0.0015 - val_loss: 0.0245 - val_mse: 0.0025\n",
      "Epoch 95/100\n",
      "42/42 [==============================] - 0s 2ms/step - loss: 0.0264 - mse: 0.0019 - val_loss: 0.0282 - val_mse: 0.0021\n",
      "Epoch 96/100\n",
      "42/42 [==============================] - 0s 1ms/step - loss: 0.0291 - mse: 0.0027 - val_loss: 0.0236 - val_mse: 0.0022\n",
      "Epoch 97/100\n",
      "42/42 [==============================] - 0s 1ms/step - loss: 0.0223 - mse: 0.0014 - val_loss: 0.0259 - val_mse: 0.0022\n",
      "Epoch 98/100\n",
      "42/42 [==============================] - 0s 1ms/step - loss: 0.0255 - mse: 0.0016 - val_loss: 0.0335 - val_mse: 0.0035\n",
      "Epoch 99/100\n",
      "42/42 [==============================] - 0s 1ms/step - loss: 0.0232 - mse: 0.0013 - val_loss: 0.0243 - val_mse: 0.0019\n",
      "Epoch 100/100\n",
      "42/42 [==============================] - 0s 2ms/step - loss: 0.0255 - mse: 0.0023 - val_loss: 0.0304 - val_mse: 0.0026\n"
     ]
    }
   ],
   "source": [
    "history=model.fit(\n",
    "    X_train,\n",
    "    y_train,\n",
    "    batch_size=16,\n",
    "    epochs=100,\n",
    "    verbose=True,\n",
    "    validation_data=(X_test,y_test)\n",
    ")"
   ]
  },
  {
   "cell_type": "markdown",
   "id": "jewish-dress",
   "metadata": {},
   "source": [
    "Next we plot the loss for the training and testing dataset. We observe no overfitting in our model. We had to increase the number of epochs because of the regularization parameter"
   ]
  },
  {
   "cell_type": "code",
   "execution_count": 31,
   "id": "starting-tennis",
   "metadata": {
    "scrolled": true
   },
   "outputs": [
    {
     "data": {
      "image/png": "[encoded data removed]",
      "text/plain": [
       "<Figure size 864x432 with 1 Axes>"
      ]
     },
     "metadata": {
      "needs_background": "light"
     },
     "output_type": "display_data"
    }
   ],
   "source": [
    "plot_loss(history)"
   ]
  },
  {
   "cell_type": "code",
   "execution_count": 32,
   "id": "determined-spank",
   "metadata": {
    "scrolled": false
   },
   "outputs": [
    {
     "data": {
      "image/png": "[encoded data removed]",
      "text/plain": [
       "<Figure size 864x432 with 1 Axes>"
      ]
     },
     "metadata": {
      "needs_background": "light"
     },
     "output_type": "display_data"
    }
   ],
   "source": [
    "y_test_pred = model.predict(X_test)\n",
    "\n",
    "plt.figure(figsize=(12,6))\n",
    "plt.plot(X_test[:,0],y_test,'o',label='Test')\n",
    "plt.plot(X_test[:,0],y_test_pred,'o',label='Predicted test')\n",
    "\n",
    "plt.xlabel('Porosity')\n",
    "plt.ylabel('Production')\n",
    "plt.legend()\n",
    "plt.grid(True)"
   ]
  },
  {
   "cell_type": "markdown",
   "id": "frozen-light",
   "metadata": {},
   "source": [
    "### Goodness of the uncertainty model"
   ]
  },
  {
   "cell_type": "markdown",
   "id": "radical-country",
   "metadata": {},
   "source": [
    "Let's evaluate the goodness of the model."
   ]
  },
  {
   "cell_type": "markdown",
   "id": "qualified-royalty",
   "metadata": {},
   "source": [
    "This is no longer a deterministic approach and we will evaluate the model only 200 times, next we will print the Goodness, Precision and Acurracy of the model."
   ]
  },
  {
   "cell_type": "code",
   "execution_count": 33,
   "id": "nervous-assembly",
   "metadata": {
    "scrolled": true
   },
   "outputs": [
    {
     "name": "stdout",
     "output_type": "stream",
     "text": [
      "42/42 [==============================] - 0s 576us/step\n",
      "42/42 [==============================] - 0s 551us/step\n",
      "42/42 [==============================] - 0s 512us/step\n",
      "42/42 [==============================] - 0s 525us/step\n",
      "42/42 [==============================] - 0s 572us/step\n",
      "42/42 [==============================] - 0s 539us/step\n",
      "42/42 [==============================] - 0s 537us/step\n",
      "42/42 [==============================] - 0s 579us/step\n",
      "42/42 [==============================] - 0s 540us/step\n",
      "42/42 [==============================] - 0s 517us/step\n",
      "42/42 [==============================] - 0s 517us/step\n",
      "42/42 [==============================] - 0s 563us/step\n",
      "42/42 [==============================] - 0s 543us/step\n",
      "42/42 [==============================] - 0s 553us/step\n",
      "42/42 [==============================] - 0s 518us/step\n",
      "42/42 [==============================] - 0s 504us/step\n",
      "42/42 [==============================] - 0s 530us/step\n",
      "42/42 [==============================] - 0s 553us/step\n",
      "42/42 [==============================] - 0s 565us/step\n",
      "42/42 [==============================] - 0s 526us/step\n",
      "42/42 [==============================] - 0s 543us/step\n",
      "42/42 [==============================] - 0s 537us/step\n",
      "42/42 [==============================] - 0s 502us/step\n",
      "42/42 [==============================] - 0s 529us/step\n",
      "42/42 [==============================] - 0s 532us/step\n",
      "42/42 [==============================] - 0s 515us/step\n",
      "42/42 [==============================] - 0s 495us/step\n",
      "42/42 [==============================] - 0s 520us/step\n",
      "42/42 [==============================] - 0s 531us/step\n",
      "42/42 [==============================] - 0s 525us/step\n",
      "42/42 [==============================] - 0s 522us/step\n",
      "42/42 [==============================] - 0s 503us/step\n",
      "42/42 [==============================] - 0s 538us/step\n",
      "42/42 [==============================] - 0s 504us/step\n",
      "42/42 [==============================] - 0s 514us/step\n",
      "42/42 [==============================] - 0s 541us/step\n",
      "42/42 [==============================] - 0s 500us/step\n",
      "42/42 [==============================] - 0s 506us/step\n",
      "42/42 [==============================] - 0s 523us/step\n",
      "42/42 [==============================] - 0s 483us/step\n",
      "42/42 [==============================] - 0s 516us/step\n",
      "42/42 [==============================] - 0s 507us/step\n",
      "42/42 [==============================] - 0s 484us/step\n",
      "42/42 [==============================] - 0s 534us/step\n",
      "42/42 [==============================] - 0s 510us/step\n",
      "42/42 [==============================] - 0s 554us/step\n",
      "42/42 [==============================] - 0s 492us/step\n",
      "42/42 [==============================] - 0s 504us/step\n",
      "42/42 [==============================] - 0s 503us/step\n",
      "42/42 [==============================] - 0s 508us/step\n",
      "42/42 [==============================] - 0s 523us/step\n",
      "42/42 [==============================] - 0s 545us/step\n",
      "42/42 [==============================] - 0s 535us/step\n",
      "42/42 [==============================] - 0s 533us/step\n",
      "42/42 [==============================] - 0s 502us/step\n",
      "42/42 [==============================] - 0s 483us/step\n",
      "42/42 [==============================] - 0s 533us/step\n",
      "42/42 [==============================] - 0s 510us/step\n",
      "42/42 [==============================] - 0s 537us/step\n",
      "42/42 [==============================] - 0s 539us/step\n",
      "42/42 [==============================] - 0s 514us/step\n",
      "42/42 [==============================] - 0s 535us/step\n",
      "42/42 [==============================] - 0s 535us/step\n",
      "42/42 [==============================] - 0s 521us/step\n",
      "42/42 [==============================] - 0s 537us/step\n",
      "42/42 [==============================] - 0s 499us/step\n",
      "42/42 [==============================] - 0s 509us/step\n",
      "42/42 [==============================] - 0s 489us/step\n",
      "42/42 [==============================] - 0s 512us/step\n",
      "42/42 [==============================] - 0s 500us/step\n",
      "42/42 [==============================] - 0s 536us/step\n",
      "42/42 [==============================] - 0s 583us/step\n",
      "42/42 [==============================] - 0s 585us/step\n",
      "42/42 [==============================] - 0s 556us/step\n",
      "42/42 [==============================] - 0s 512us/step\n",
      "42/42 [==============================] - 0s 485us/step\n",
      "42/42 [==============================] - 0s 536us/step\n",
      "42/42 [==============================] - 0s 549us/step\n",
      "42/42 [==============================] - 0s 545us/step\n",
      "42/42 [==============================] - 0s 522us/step\n",
      "42/42 [==============================] - 0s 511us/step\n",
      "42/42 [==============================] - 0s 508us/step\n",
      "42/42 [==============================] - 0s 497us/step\n",
      "42/42 [==============================] - 0s 542us/step\n",
      "42/42 [==============================] - 0s 548us/step\n",
      "42/42 [==============================] - 0s 522us/step\n",
      "42/42 [==============================] - 0s 521us/step\n",
      "42/42 [==============================] - 0s 512us/step\n",
      "42/42 [==============================] - 0s 533us/step\n",
      "42/42 [==============================] - 0s 493us/step\n",
      "42/42 [==============================] - 0s 493us/step\n",
      "42/42 [==============================] - 0s 522us/step\n",
      "42/42 [==============================] - 0s 518us/step\n",
      "42/42 [==============================] - 0s 520us/step\n",
      "42/42 [==============================] - 0s 527us/step\n",
      "42/42 [==============================] - 0s 499us/step\n",
      "42/42 [==============================] - 0s 543us/step\n",
      "42/42 [==============================] - 0s 527us/step\n",
      "42/42 [==============================] - 0s 562us/step\n",
      "42/42 [==============================] - 0s 532us/step\n",
      "42/42 [==============================] - 0s 528us/step\n",
      "42/42 [==============================] - 0s 528us/step\n",
      "42/42 [==============================] - 0s 508us/step\n",
      "42/42 [==============================] - 0s 601us/step\n",
      "42/42 [==============================] - 0s 517us/step\n",
      "42/42 [==============================] - 0s 525us/step\n",
      "42/42 [==============================] - 0s 515us/step\n",
      "42/42 [==============================] - 0s 538us/step\n",
      "42/42 [==============================] - 0s 553us/step\n",
      "42/42 [==============================] - 0s 494us/step\n",
      "42/42 [==============================] - 0s 497us/step\n",
      "42/42 [==============================] - 0s 563us/step\n",
      "42/42 [==============================] - 0s 514us/step\n",
      "42/42 [==============================] - 0s 496us/step\n",
      "42/42 [==============================] - 0s 510us/step\n",
      "42/42 [==============================] - 0s 507us/step\n",
      "42/42 [==============================] - 0s 494us/step\n",
      "42/42 [==============================] - 0s 544us/step\n",
      "42/42 [==============================] - 0s 489us/step\n",
      "42/42 [==============================] - 0s 527us/step\n",
      "42/42 [==============================] - 0s 561us/step\n",
      "42/42 [==============================] - 0s 504us/step\n",
      "42/42 [==============================] - 0s 503us/step\n",
      "42/42 [==============================] - 0s 513us/step\n",
      "42/42 [==============================] - 0s 487us/step\n",
      "42/42 [==============================] - 0s 533us/step\n",
      "42/42 [==============================] - 0s 504us/step\n",
      "42/42 [==============================] - 0s 511us/step\n",
      "42/42 [==============================] - 0s 553us/step\n",
      "42/42 [==============================] - 0s 515us/step\n",
      "42/42 [==============================] - 0s 501us/step\n",
      "42/42 [==============================] - 0s 511us/step\n",
      "42/42 [==============================] - 0s 508us/step\n",
      "42/42 [==============================] - 0s 559us/step\n",
      "42/42 [==============================] - 0s 554us/step\n",
      "42/42 [==============================] - 0s 516us/step\n",
      "42/42 [==============================] - 0s 566us/step\n",
      "42/42 [==============================] - 0s 501us/step\n",
      "42/42 [==============================] - 0s 619us/step\n",
      "42/42 [==============================] - 0s 657us/step\n",
      "42/42 [==============================] - 0s 754us/step\n",
      "42/42 [==============================] - 0s 657us/step\n",
      "42/42 [==============================] - 0s 515us/step\n",
      "42/42 [==============================] - 0s 570us/step\n",
      "42/42 [==============================] - 0s 542us/step\n",
      "42/42 [==============================] - 0s 463us/step\n",
      "42/42 [==============================] - 0s 515us/step\n",
      "42/42 [==============================] - 0s 539us/step\n",
      "42/42 [==============================] - 0s 543us/step\n"
     ]
    },
    {
     "name": "stdout",
     "output_type": "stream",
     "text": [
      "42/42 [==============================] - 0s 497us/step\n",
      "42/42 [==============================] - 0s 525us/step\n",
      "42/42 [==============================] - 0s 512us/step\n",
      "42/42 [==============================] - 0s 524us/step\n",
      "42/42 [==============================] - 0s 536us/step\n",
      "42/42 [==============================] - 0s 499us/step\n",
      "42/42 [==============================] - 0s 545us/step\n",
      "42/42 [==============================] - 0s 520us/step\n",
      "42/42 [==============================] - 0s 556us/step\n",
      "42/42 [==============================] - 0s 555us/step\n",
      "42/42 [==============================] - 0s 544us/step\n",
      "42/42 [==============================] - 0s 548us/step\n",
      "42/42 [==============================] - 0s 486us/step\n",
      "42/42 [==============================] - 0s 485us/step\n",
      "42/42 [==============================] - 0s 499us/step\n",
      "42/42 [==============================] - 0s 523us/step\n",
      "42/42 [==============================] - 0s 485us/step\n",
      "42/42 [==============================] - 0s 528us/step\n",
      "42/42 [==============================] - 0s 515us/step\n",
      "42/42 [==============================] - 0s 469us/step\n",
      "42/42 [==============================] - 0s 475us/step\n",
      "42/42 [==============================] - 0s 473us/step\n",
      "42/42 [==============================] - 0s 574us/step\n",
      "42/42 [==============================] - 0s 486us/step\n",
      "42/42 [==============================] - 0s 536us/step\n",
      "42/42 [==============================] - 0s 499us/step\n",
      "42/42 [==============================] - 0s 514us/step\n",
      "42/42 [==============================] - 0s 514us/step\n",
      "42/42 [==============================] - 0s 642us/step\n",
      "42/42 [==============================] - 0s 566us/step\n",
      "42/42 [==============================] - 0s 532us/step\n",
      "42/42 [==============================] - 0s 496us/step\n",
      "42/42 [==============================] - 0s 513us/step\n",
      "42/42 [==============================] - 0s 514us/step\n",
      "42/42 [==============================] - 0s 534us/step\n",
      "42/42 [==============================] - 0s 561us/step\n",
      "42/42 [==============================] - 0s 518us/step\n",
      "42/42 [==============================] - 0s 584us/step\n",
      "42/42 [==============================] - 0s 698us/step\n",
      "42/42 [==============================] - 0s 559us/step\n",
      "42/42 [==============================] - 0s 585us/step\n",
      "42/42 [==============================] - 0s 584us/step\n",
      "42/42 [==============================] - 0s 560us/step\n",
      "42/42 [==============================] - 0s 584us/step\n",
      "42/42 [==============================] - 0s 618us/step\n",
      "42/42 [==============================] - 0s 535us/step\n",
      "42/42 [==============================] - 0s 511us/step\n",
      "42/42 [==============================] - 0s 515us/step\n",
      "42/42 [==============================] - 0s 584us/step\n",
      "42/42 [==============================] - 0s 778us/step\n",
      "42/42 [==============================] - 0s 608us/step\n"
     ]
    }
   ],
   "source": [
    "mc_predictions = evaluate_cases(model, X_test, 8, y_test,200)"
   ]
  },
  {
   "cell_type": "code",
   "execution_count": 34,
   "id": "confused-bundle",
   "metadata": {},
   "outputs": [],
   "source": [
    "df = get_dataframe(mc_predictions, y_test, X_test)"
   ]
  },
  {
   "cell_type": "markdown",
   "id": "thousand-finish",
   "metadata": {},
   "source": [
    "How does the cross validation plot look like?\n",
    "What about the Pearson's product moment correlation coefficient?"
   ]
  },
  {
   "cell_type": "code",
   "execution_count": 35,
   "id": "important-subscription",
   "metadata": {
    "scrolled": false
   },
   "outputs": [
    {
     "data": {
      "image/png": "[encoded data removed]",
      "text/plain": [
       "<Figure size 720x432 with 1 Axes>"
      ]
     },
     "metadata": {
      "needs_background": "light"
     },
     "output_type": "display_data"
    }
   ],
   "source": [
    "r= stats.pearsonr(df.Pred,df.Truth)\n",
    "error_line(df.Pred,df.Truth,df.Sigma,r[0])"
   ]
  },
  {
   "cell_type": "markdown",
   "id": "synthetic-essence",
   "metadata": {},
   "source": [
    "What is the Goodness, Precision and Accuracy of the model?"
   ]
  },
  {
   "cell_type": "code",
   "execution_count": 36,
   "id": "nominated-canal",
   "metadata": {},
   "outputs": [],
   "source": [
    "Sigma = np.sqrt(np.var(mc_predictions.T, axis=1))\n",
    "\n",
    "score = scorer(mc_predictions.T, y_test, Sigma)\n",
    "\n",
    "IF_array = score.IndicatorFunction()\n",
    "n_quantiles = 11\n",
    "perc = np.linspace(0.0, 1.00, n_quantiles)\n"
   ]
  },
  {
   "cell_type": "code",
   "execution_count": 37,
   "id": "charitable-pasta",
   "metadata": {
    "scrolled": true
   },
   "outputs": [
    {
     "name": "stdout",
     "output_type": "stream",
     "text": [
      "Accuracy = 0.03\n",
      "Precision = 1.00\n",
      "Goodness = 0.63\n"
     ]
    }
   ],
   "source": [
    "print('Accuracy = {0:2.2f}'.format(score.Accuracy()))\n",
    "print('Precision = {0:2.2f}'.format(score.Precision()))\n",
    "print('Goodness = {0:2.2f}'.format(score.Goodness()))"
   ]
  },
  {
   "cell_type": "markdown",
   "id": "advanced-imagination",
   "metadata": {},
   "source": [
    "For a random point we can plot the histogram of predictions and estimate the standard deviation of the mean value"
   ]
  },
  {
   "cell_type": "code",
   "execution_count": 38,
   "id": "available-detroit",
   "metadata": {},
   "outputs": [
    {
     "data": {
      "image/png": "[encoded data removed]",
      "text/plain": [
       "<Figure size 720x432 with 1 Axes>"
      ]
     },
     "metadata": {
      "needs_background": "light"
     },
     "output_type": "display_data"
    }
   ],
   "source": [
    "histogram_fixed(mc_predictions,5);"
   ]
  },
  {
   "cell_type": "markdown",
   "id": "pregnant-switch",
   "metadata": {},
   "source": [
    "How does the accuracy plot look like for the defined model?"
   ]
  },
  {
   "cell_type": "code",
   "execution_count": 39,
   "id": "meaningful-advancement",
   "metadata": {
    "scrolled": false
   },
   "outputs": [
    {
     "data": {
      "image/png": "[encoded data removed]",
      "text/plain": [
       "<Figure size 864x288 with 2 Axes>"
      ]
     },
     "metadata": {
      "needs_background": "light"
     },
     "output_type": "display_data"
    }
   ],
   "source": [
    "error_accuracy_plot(perc, IF_array, mc_predictions.T, y_test, Sigma)"
   ]
  },
  {
   "cell_type": "markdown",
   "id": "planned-timer",
   "metadata": {},
   "source": [
    "## Exploration of the hyperparameter space"
   ]
  },
  {
   "cell_type": "markdown",
   "id": "alpha-springer",
   "metadata": {},
   "source": [
    "The model we instantiated in the last section was selected using the following algorithm:\n",
    "\n",
    "**Input**: m hyperparameter combinations to evaluate\n",
    "**Output**: optimal dropout with maximum uncertainty model goodness for a given learning rate\n",
    "1. Use any design of experiments (DOE) to sample m dropout and learning rate values of the search space.\n",
    "2. Use the objective function defined in equation 8 \n",
    "3. **while** i<m **do**\n",
    "\n",
    "    1. Perform model training with specified dropout rate, d; for a given learning rate, lr;\n",
    "    2. for l=1,…,L ensemble models calculate prediction realizations over the testing data to calculate the nonparametric cumulative distribution function $F_y (u_i)$;\n",
    "\t3. Calculate the average indicator function $\\overline{\\xi (p)}$ for each discretized symmetric probability interval to calculate the accuracy plot;\n",
    "\t4. Evaluate scores, precision, accuracy, and goodness of the uncertainty model with the proposed objective function;\n",
    "\t5. Evaluate overall uncertainty to split ties for models with similar scores from the proposed objective function\n",
    "4. **return** optimum dropout with uncertainty model accuracy, precision and the least overall uncertainty.\n",
    "\n",
    "\n",
    "We use Optuna for hyperparameter tuning and the Uncertainty Model Goodness to search for the optimum value of hyperparameters."
   ]
  },
  {
   "cell_type": "markdown",
   "id": "stylish-gathering",
   "metadata": {},
   "source": [
    "**NOTE**: the following piece of code might be too long to run. So feel free to skip the following lines and just load the results of this grid search  in the next section."
   ]
  },
  {
   "cell_type": "code",
   "execution_count": null,
   "id": "protective-archives",
   "metadata": {
    "scrolled": true
   },
   "outputs": [],
   "source": [
    "d_space = np.linspace(0.05, 0.95, 30)\n",
    "l_space = np.linspace(0.001, .03 , 20)\n",
    "search_space = {\"Dropout\": d_space, \"learn_rate\": l_space}\n",
    "\n",
    "study = optuna.create_study(sampler=optuna.samplers.GridSampler(search_space))"
   ]
  },
  {
   "cell_type": "markdown",
   "id": "comparable-device",
   "metadata": {},
   "source": [
    "Save our job"
   ]
  },
  {
   "cell_type": "code",
   "execution_count": null,
   "id": "maritime-philadelphia",
   "metadata": {
    "scrolled": true
   },
   "outputs": [],
   "source": [
    "study.optimize(objective,\n",
    "               n_trials=d_space.shape[0] * l_space.shape[0],\n",
    "               show_progress_bar=True)"
   ]
  },
  {
   "cell_type": "code",
   "execution_count": null,
   "id": "dutch-melissa",
   "metadata": {},
   "outputs": [],
   "source": [
    "StudyName='Search-Space'\n",
    "joblib.dump(study, StudyName+'.pkl')"
   ]
  },
  {
   "cell_type": "markdown",
   "id": "emerging-scholar",
   "metadata": {},
   "source": [
    "### Summary of the training"
   ]
  },
  {
   "cell_type": "markdown",
   "id": "occasional-favorite",
   "metadata": {},
   "source": [
    "Next we present the summary of the training "
   ]
  },
  {
   "cell_type": "code",
   "execution_count": 40,
   "id": "passing-exception",
   "metadata": {},
   "outputs": [],
   "source": [
    "# StudyName='Search-Space'\n",
    "\n",
    "# study = joblib.load(StudyName+'.pkl')\n",
    "# df = study.trials_dataframe().drop(['state','datetime_start','datetime_complete'], axis=1)\n",
    "\n",
    "# df.to_csv('Search-space.csv')\n",
    "\n",
    "df=pd.read_csv('Search-space.csv')"
   ]
  },
  {
   "cell_type": "code",
   "execution_count": 41,
   "id": "thorough-monkey",
   "metadata": {},
   "outputs": [
    {
     "name": "stdout",
     "output_type": "stream",
     "text": [
      "<class 'pandas.core.frame.DataFrame'>\n",
      "RangeIndex: 600 entries, 0 to 599\n",
      "Data columns (total 8 columns):\n",
      " #   Column                     Non-Null Count  Dtype  \n",
      "---  ------                     --------------  -----  \n",
      " 0   Unnamed: 0                 600 non-null    int64  \n",
      " 1   number                     600 non-null    int64  \n",
      " 2   value                      600 non-null    float64\n",
      " 3   duration                   600 non-null    object \n",
      " 4   params_Dropout             600 non-null    float64\n",
      " 5   params_learn_rate          600 non-null    float64\n",
      " 6   system_attrs_grid_id       600 non-null    int64  \n",
      " 7   system_attrs_search_space  600 non-null    object \n",
      "dtypes: float64(3), int64(3), object(2)\n",
      "memory usage: 37.6+ KB\n"
     ]
    }
   ],
   "source": [
    "df.info()"
   ]
  },
  {
   "cell_type": "markdown",
   "id": "fitted-allergy",
   "metadata": {},
   "source": [
    "This is how the search space evaluated with the uncertainty model goodness metric looks like:"
   ]
  },
  {
   "cell_type": "code",
   "execution_count": 42,
   "id": "undefined-status",
   "metadata": {
    "scrolled": false
   },
   "outputs": [
    {
     "name": "stderr",
     "output_type": "stream",
     "text": [
      "C:\\Users\\em42363\\AppData\\Local\\Temp\\ipykernel_20168\\1542533022.py:3: DeprecationWarning: Please use `gaussian_filter` from the `scipy.ndimage` namespace, the `scipy.ndimage.filters` namespace is deprecated.\n",
      "  from scipy.ndimage.filters import gaussian_filter\n"
     ]
    },
    {
     "data": {
      "image/png": "[encoded data removed]",
      "text/plain": [
       "<Figure size 864x432 with 2 Axes>"
      ]
     },
     "metadata": {
      "needs_background": "light"
     },
     "output_type": "display_data"
    }
   ],
   "source": [
    "import scipy.ndimage\n",
    "import matplotlib.tri as tri\n",
    "from scipy.ndimage.filters import gaussian_filter\n",
    "\n",
    "z=df['value'].values\n",
    "x=df['params_Dropout'].values\n",
    "y=df['params_learn_rate'].values\n",
    "\n",
    "fig, (ax1) = plt.subplots(nrows=1,figsize=(12,6))\n",
    "\n",
    "npoints=300\n",
    "smooth=2\n",
    "\n",
    "# Create grid values first.\n",
    "xi = np.linspace(x.min(), x.max(), npoints)\n",
    "yi = np.linspace(y.min(), y.max(), npoints)\n",
    "\n",
    "# Linearly interpolate the data (x, y) on a grid defined by (xi, yi).\n",
    "triang = tri.Triangulation(x, y)\n",
    "interpolator = tri.LinearTriInterpolator(triang, z)\n",
    "Xi, Yi = np.meshgrid(xi, yi)\n",
    "zi = interpolator(Xi, Yi)\n",
    "\n",
    "zi = gaussian_filter(zi, smooth)\n",
    "\n",
    "levels=10\n",
    "\n",
    "ax1.contour(xi, yi, zi, levels=levels, linewidths=0.1, colors='k')\n",
    "cntr1 = ax1.contourf(xi, yi, zi, levels=levels, cmap=\"inferno\",alpha=0.9)\n",
    "\n",
    "cbar = plt.colorbar(cntr1, ax=ax1)\n",
    "\n",
    "cbar.set_label('Uncertainty model Goodness', rotation=270,labelpad=30)\n",
    "\n",
    "ax1.set(xlim=(df.params_Dropout.min(), df.params_Dropout.max()),ylim=(df.params_learn_rate.min(), df.params_learn_rate.max()))\n",
    "ax1.scatter(x,y,s=3,color='darkgray')\n",
    "ax1.set_ylabel('Learn rate')\n",
    "ax1.set_xlabel('Dropout')\n",
    "plt.show()\n"
   ]
  },
  {
   "cell_type": "markdown",
   "id": "ruled-combine",
   "metadata": {},
   "source": [
    "## Conclusions and observations"
   ]
  },
  {
   "cell_type": "markdown",
   "id": "portable-dispatch",
   "metadata": {},
   "source": [
    "* The work introduces a novel workflow to tune uncertainty models by using the uncertainty model goodness metric.\n",
    "\n",
    "* This inclusion allows the calculation of robust uncertainty models from machine learning-based ensembles of estimates and robust forecasting.\n",
    "\n",
    "* This approach is critical to any prediction problem with significant uncertainty."
   ]
  },
  {
   "cell_type": "markdown",
   "id": "quantitative-playback",
   "metadata": {},
   "source": [
    "### Eduardo Maldonado Cruz, Graduate Research Assistant, The University of Texas at Austin\n",
    "\n",
    "#### [Twitter](https://twitter.com/emaldonadocruz) | [GitHub](https://github.com/emaldonadocruz) | [LinkedIn](https://www.linkedin.com/in/eduardo-maldonado-8386a898/)\n",
    "\n",
    "### Michael Pyrcz, Associate Professor, The University of Texas at Austin \n",
    "\n",
    "#### [Twitter](https://twitter.com/geostatsguy) | [GitHub](https://github.com/GeostatsGuy) | [Website](http://michaelpyrcz.com) | [GoogleScholar](https://scholar.google.com/citations?user=QVZ20eQAAAAJ&hl=en&oi=ao) | [Book](https://www.amazon.com/Geostatistical-Reservoir-Modeling-Michael-Pyrcz/dp/0199731446) | [YouTube](https://www.youtube.com/channel/UCLqEr-xV-ceHdXXXrTId5ig)  | [LinkedIn](https://www.linkedin.com/in/michael-pyrcz-61a648a1)"
   ]
  }
 ],
 "metadata": {
  "kernelspec": {
   "display_name": "Python 3 (ipykernel)",
   "language": "python",
   "name": "python3"
  },
  "language_info": {
   "codemirror_mode": {
    "name": "ipython",
    "version": 3
   },
   "file_extension": ".py",
   "mimetype": "text/x-python",
   "name": "python",
   "nbconvert_exporter": "python",
   "pygments_lexer": "ipython3",
   "version": "3.9.7"
  },
  "toc": {
   "base_numbering": 1,
   "nav_menu": {},
   "number_sections": true,
   "sideBar": true,
   "skip_h1_title": false,
   "title_cell": "Table of Contents",
   "title_sidebar": "Contents",
   "toc_cell": false,
   "toc_position": {
    "height": "calc(100% - 180px)",
    "left": "10px",
    "top": "150px",
    "width": "253px"
   },
   "toc_section_display": true,
   "toc_window_display": true
  },
  "varInspector": {
   "cols": {
    "lenName": 16,
    "lenType": 16,
    "lenVar": 40
   },
   "kernels_config": {
    "python": {
     "delete_cmd_postfix": "",
     "delete_cmd_prefix": "del ",
     "library": "var_list.py",
     "varRefreshCmd": "print(var_dic_list())"
    },
    "r": {
     "delete_cmd_postfix": ") ",
     "delete_cmd_prefix": "rm(",
     "library": "var_list.r",
     "varRefreshCmd": "cat(var_dic_list()) "
    }
   },
   "types_to_exclude": [
    "module",
    "function",
    "builtin_function_or_method",
    "instance",
    "_Feature"
   ],
   "window_display": false
  }
 },
 "nbformat": 4,
 "nbformat_minor": 5
}
